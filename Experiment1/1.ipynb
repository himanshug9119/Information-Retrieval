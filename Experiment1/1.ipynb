{
 "cells": [
  {
   "cell_type": "code",
   "execution_count": 2,
   "metadata": {
    "ExecuteTime": {
     "end_time": "2023-10-18T10:52:10.605497600Z",
     "start_time": "2023-10-18T10:52:08.498405300Z"
    }
   },
   "outputs": [],
   "source": [
    "import pyterrier as pt\n",
    "import pandas as pd"
   ]
  },
  {
   "cell_type": "code",
   "execution_count": 2,
   "metadata": {
    "ExecuteTime": {
     "end_time": "2023-09-30T13:51:33.850408200Z",
     "start_time": "2023-09-30T13:51:33.837228800Z"
    },
    "collapsed": false
   },
   "outputs": [],
   "source": [
    "import os\n",
    "os.environ[\"JAVA_HOME\"] = \"C:\\\\Program Files\\\\Microsoft\\\\jdk-11.0.12.7-hotspot\\\\bin\""
   ]
  },
  {
   "cell_type": "code",
   "execution_count": 3,
   "metadata": {
    "ExecuteTime": {
     "end_time": "2023-09-30T13:52:20.962043300Z",
     "start_time": "2023-09-30T13:51:33.853408900Z"
    },
    "collapsed": false
   },
   "outputs": [
    {
     "name": "stderr",
     "output_type": "stream",
     "text": [
      "PyTerrier 0.9.2 has loaded Terrier 5.7 (built by craigm on 2022-11-10 18:30) and terrier-helper 0.0.7\n",
      "\n"
     ]
    }
   ],
   "source": [
    "if not pt.started():\n",
    "    pt.init()"
   ]
  },
  {
   "cell_type": "code",
   "execution_count": 5,
   "metadata": {
    "ExecuteTime": {
     "end_time": "2023-09-30T13:52:30.451066800Z",
     "start_time": "2023-09-30T13:52:20.966046500Z"
    },
    "collapsed": false
   },
   "outputs": [
    {
     "name": "stdout",
     "output_type": "stream",
     "text": [
      "18:24:52.580 [main] ERROR org.terrier.structures.indexing.Indexer - Could not rename index\n",
      "java.io.IOException: Rename of index structure file 'E:\\Pycharm\\IR\\Experiment1\\mail_index/data_1.direct.bf' (exists) to 'E:\\Pycharm\\IR\\Experiment1\\mail_index/data.direct.bf' (exists) failed - likely that source file is still open. Possible indexing bug?\n",
      "\tat org.terrier.structures.IndexUtil.renameIndex(IndexUtil.java:379)\n",
      "\tat org.terrier.structures.indexing.Indexer.index(Indexer.java:388)\n"
     ]
    }
   ],
   "source": [
    "files = pt.io.find_files(\"./Mails\")\n",
    "indexer = pt.FilesIndexer(\n",
    "    \"E:\\Pycharm\\IR\\Experiment1\\mail_index\", \n",
    "    overwrite=True, \n",
    "    verbose=True, \n",
    "    blocks=False)\n",
    "indexref = indexer.index(files)\n",
    "index = pt.IndexFactory.of(indexref)"
   ]
  },
  {
   "cell_type": "code",
   "execution_count": 7,
   "metadata": {
    "ExecuteTime": {
     "end_time": "2023-09-30T13:52:30.453066300Z",
     "start_time": "2023-09-30T13:52:30.396064500Z"
    },
    "collapsed": false
   },
   "outputs": [],
   "source": [
    "queries_dict = {\n",
    "    1: 'Welcome, Nilesh,Thanks '\n",
    "       'for joining Indian Institute '\n",
    "       'of Information Technology',\n",
    "    2: 'IIIT Vadodara International '\n",
    "       'Campus, Diu'\n",
    "}\n",
    "queries = pd.DataFrame(\n",
    "    list(queries_dict.items()), \n",
    "    columns=['qid', 'query'])"
   ]
  },
  {
   "cell_type": "code",
   "execution_count": 9,
   "metadata": {
    "ExecuteTime": {
     "end_time": "2023-09-30T13:53:23.583817800Z",
     "start_time": "2023-09-30T13:53:23.553060800Z"
    },
    "collapsed": false
   },
   "outputs": [],
   "source": [
    "retr = pt.BatchRetrieve(\n",
    "    index, \n",
    "    controls = {\n",
    "        \"wmodel\": \"TF_IDF\"\n",
    "    }\n",
    ")\n",
    "retr.setControl(\"wmodel\", \"TF_IDF\")\n",
    "retr.setControls({\"wmodel\": \"TF_IDF\"})"
   ]
  },
  {
   "cell_type": "code",
   "execution_count": 10,
   "metadata": {
    "ExecuteTime": {
     "end_time": "2023-09-30T13:53:27.319443200Z",
     "start_time": "2023-09-30T13:53:27.280278700Z"
    },
    "collapsed": false
   },
   "outputs": [
    {
     "data": {
      "text/html": [
       "<div>\n",
       "<style scoped>\n",
       "    .dataframe tbody tr th:only-of-type {\n",
       "        vertical-align: middle;\n",
       "    }\n",
       "\n",
       "    .dataframe tbody tr th {\n",
       "        vertical-align: top;\n",
       "    }\n",
       "\n",
       "    .dataframe thead th {\n",
       "        text-align: right;\n",
       "    }\n",
       "</style>\n",
       "<table border=\"1\" class=\"dataframe\">\n",
       "  <thead>\n",
       "    <tr style=\"text-align: right;\">\n",
       "      <th></th>\n",
       "      <th>qid</th>\n",
       "      <th>docid</th>\n",
       "      <th>docno</th>\n",
       "      <th>rank</th>\n",
       "      <th>score</th>\n",
       "      <th>query</th>\n",
       "    </tr>\n",
       "  </thead>\n",
       "  <tbody>\n",
       "    <tr>\n",
       "      <th>0</th>\n",
       "      <td>1</td>\n",
       "      <td>15</td>\n",
       "      <td>d16</td>\n",
       "      <td>0</td>\n",
       "      <td>4.613670</td>\n",
       "      <td>Welcome, Nilesh,Thanks for joining Indian Inst...</td>\n",
       "    </tr>\n",
       "    <tr>\n",
       "      <th>1</th>\n",
       "      <td>1</td>\n",
       "      <td>14</td>\n",
       "      <td>d15</td>\n",
       "      <td>1</td>\n",
       "      <td>4.218750</td>\n",
       "      <td>Welcome, Nilesh,Thanks for joining Indian Inst...</td>\n",
       "    </tr>\n",
       "    <tr>\n",
       "      <th>2</th>\n",
       "      <td>1</td>\n",
       "      <td>0</td>\n",
       "      <td>d1</td>\n",
       "      <td>2</td>\n",
       "      <td>3.810985</td>\n",
       "      <td>Welcome, Nilesh,Thanks for joining Indian Inst...</td>\n",
       "    </tr>\n",
       "    <tr>\n",
       "      <th>3</th>\n",
       "      <td>1</td>\n",
       "      <td>6</td>\n",
       "      <td>d7</td>\n",
       "      <td>3</td>\n",
       "      <td>2.588984</td>\n",
       "      <td>Welcome, Nilesh,Thanks for joining Indian Inst...</td>\n",
       "    </tr>\n",
       "    <tr>\n",
       "      <th>4</th>\n",
       "      <td>2</td>\n",
       "      <td>15</td>\n",
       "      <td>d16</td>\n",
       "      <td>0</td>\n",
       "      <td>5.875415</td>\n",
       "      <td>IIIT Vadodara, International Campus, Diu</td>\n",
       "    </tr>\n",
       "    <tr>\n",
       "      <th>5</th>\n",
       "      <td>2</td>\n",
       "      <td>0</td>\n",
       "      <td>d1</td>\n",
       "      <td>1</td>\n",
       "      <td>5.575726</td>\n",
       "      <td>IIIT Vadodara, International Campus, Diu</td>\n",
       "    </tr>\n",
       "    <tr>\n",
       "      <th>6</th>\n",
       "      <td>2</td>\n",
       "      <td>14</td>\n",
       "      <td>d15</td>\n",
       "      <td>2</td>\n",
       "      <td>1.406250</td>\n",
       "      <td>IIIT Vadodara, International Campus, Diu</td>\n",
       "    </tr>\n",
       "  </tbody>\n",
       "</table>\n",
       "</div>"
      ],
      "text/plain": [
       "  qid  docid docno  rank     score  \\\n",
       "0   1     15   d16     0  4.613670   \n",
       "1   1     14   d15     1  4.218750   \n",
       "2   1      0    d1     2  3.810985   \n",
       "3   1      6    d7     3  2.588984   \n",
       "4   2     15   d16     0  5.875415   \n",
       "5   2      0    d1     1  5.575726   \n",
       "6   2     14   d15     2  1.406250   \n",
       "\n",
       "                                               query  \n",
       "0  Welcome, Nilesh,Thanks for joining Indian Inst...  \n",
       "1  Welcome, Nilesh,Thanks for joining Indian Inst...  \n",
       "2  Welcome, Nilesh,Thanks for joining Indian Inst...  \n",
       "3  Welcome, Nilesh,Thanks for joining Indian Inst...  \n",
       "4           IIIT Vadodara, International Campus, Diu  \n",
       "5           IIIT Vadodara, International Campus, Diu  \n",
       "6           IIIT Vadodara, International Campus, Diu  "
      ]
     },
     "execution_count": 10,
     "metadata": {},
     "output_type": "execute_result"
    }
   ],
   "source": [
    "res = retr.transform(queries)\n",
    "res"
   ]
  },
  {
   "cell_type": "code",
   "execution_count": null,
   "metadata": {
    "collapsed": false
   },
   "outputs": [],
   "source": []
  }
 ],
 "metadata": {
  "kernelspec": {
   "display_name": "Python 3 (ipykernel)",
   "language": "python",
   "name": "python3"
  },
  "language_info": {
   "codemirror_mode": {
    "name": "ipython",
    "version": 3
   },
   "file_extension": ".py",
   "mimetype": "text/x-python",
   "name": "python",
   "nbconvert_exporter": "python",
   "pygments_lexer": "ipython3",
   "version": "3.9.0"
  }
 },
 "nbformat": 4,
 "nbformat_minor": 4
}
