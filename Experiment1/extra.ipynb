{
 "cells": [
  {
   "cell_type": "code",
   "execution_count": 1,
   "outputs": [],
   "source": [
    "import os\n",
    "import pandas as pd\n",
    "import pyterrier as pt"
   ],
   "metadata": {
    "collapsed": false,
    "ExecuteTime": {
     "end_time": "2023-09-21T18:31:33.843587Z",
     "start_time": "2023-09-21T18:31:33.026784900Z"
    }
   }
  },
  {
   "cell_type": "code",
   "execution_count": 2,
   "outputs": [],
   "source": [
    "os.environ[\"JAVA_HOME\"] = \"C:\\\\Program Files\\\\Microsoft\\\\jdk-11.0.12.7-hotspot\\\\bin\""
   ],
   "metadata": {
    "collapsed": false,
    "ExecuteTime": {
     "end_time": "2023-09-21T18:31:36.690194300Z",
     "start_time": "2023-09-21T18:31:36.652863600Z"
    }
   }
  },
  {
   "cell_type": "code",
   "execution_count": 3,
   "outputs": [
    {
     "name": "stderr",
     "output_type": "stream",
     "text": [
      "PyTerrier 0.9.2 has loaded Terrier 5.7 (built by craigm on 2022-11-10 18:30) and terrier-helper 0.0.7\n",
      "\n"
     ]
    }
   ],
   "source": [
    "pt.init()"
   ],
   "metadata": {
    "collapsed": false,
    "ExecuteTime": {
     "end_time": "2023-09-21T18:31:41.482918Z",
     "start_time": "2023-09-21T18:31:37.843556100Z"
    }
   }
  },
  {
   "cell_type": "markdown",
   "source": [
    "Indexing the documents from the mentioned location"
   ],
   "metadata": {
    "collapsed": false
   }
  },
  {
   "cell_type": "code",
   "execution_count": 4,
   "outputs": [
    {
     "name": "stdout",
     "output_type": "stream",
     "text": [
      "00:01:45.354 [main] ERROR org.terrier.structures.indexing.Indexer - Could not rename index\r\n",
      "java.io.IOException: Rename of index structure file 'E:\\Pycharm\\IR\\Experiment1\\indexes/data_1.direct.bf' (exists) to 'E:\\Pycharm\\IR\\Experiment1\\indexes/data.direct.bf' (exists) failed - likely that source file is still open. Possible indexing bug?\r\n",
      "\tat org.terrier.structures.IndexUtil.renameIndex(IndexUtil.java:379)\r\n",
      "\tat org.terrier.structures.indexing.Indexer.index(Indexer.java:388)\r\n",
      "Number of documents: 3\n",
      "Number of terms: 6074\n",
      "Number of postings: 9919\n",
      "Number of fields: 0\n",
      "Number of tokens: 45472\n",
      "Field names: []\n",
      "Positions:   false\n"
     ]
    }
   ],
   "source": [
    "files = pt.io.find_files(\"./Documents\")\n",
    "\n",
    "indexer = pt.FilesIndexer(\"E:\\Pycharm\\IR\\Experiment1\\indexes\", overwrite=True, verbose=True, blocks=False)\n",
    "indexref = indexer.index(files)\n",
    "\n",
    "index = pt.IndexFactory.of(indexref)\n",
    "print(index.getCollectionStatistics().toString())"
   ],
   "metadata": {
    "collapsed": false,
    "ExecuteTime": {
     "end_time": "2023-09-21T18:31:45.415354400Z",
     "start_time": "2023-09-21T18:31:44.107383500Z"
    }
   }
  },
  {
   "cell_type": "code",
   "execution_count": 5,
   "outputs": [],
   "source": [
    "queries_dict = {\n",
    "    1: \"love and tragedy\",\n",
    "    2: \"themes of revenge and madness in Hamlet\",\n",
    "    3: \"magical elements in The Tempest\",\n",
    "    4: \"character analysis of Romeo in Romeo and Juliet\",\n",
    "    5: \"political intrigue in Hamlet\",\n",
    "    6: \"prospero magic in The Tempest\",\n",
    "    7: \"romantic relationships in Romeo and Juliet\",\n",
    "    8: \"the ghost in Hamlet\",\n",
    "    9: \"island setting in The Tempest\",\n",
    "    10: \"fate vs. free will in Shakespeare works\"\n",
    "}"
   ],
   "metadata": {
    "collapsed": false,
    "ExecuteTime": {
     "end_time": "2023-09-21T18:31:47.483266900Z",
     "start_time": "2023-09-21T18:31:47.468327900Z"
    }
   }
  },
  {
   "cell_type": "code",
   "execution_count": 6,
   "outputs": [],
   "source": [
    "queries = pd.DataFrame(list(queries_dict.items()), columns=['qid', 'query'])"
   ],
   "metadata": {
    "collapsed": false,
    "ExecuteTime": {
     "end_time": "2023-09-21T18:31:49.124039700Z",
     "start_time": "2023-09-21T18:31:49.091112100Z"
    }
   }
  },
  {
   "cell_type": "markdown",
   "source": [
    "Ranking documents based on queries"
   ],
   "metadata": {
    "collapsed": false
   }
  },
  {
   "cell_type": "code",
   "execution_count": 7,
   "outputs": [],
   "source": [
    "retr = pt.BatchRetrieve(index, controls = {\"wmodel\": \"TF_IDF\"})\n",
    "\n",
    "retr.setControl(\"wmodel\", \"TF_IDF\")\n",
    "retr.setControls({\"wmodel\": \"TF_IDF\"})\n",
    "\n",
    "res=retr.transform(queries)"
   ],
   "metadata": {
    "collapsed": false,
    "ExecuteTime": {
     "end_time": "2023-09-21T18:31:50.830473800Z",
     "start_time": "2023-09-21T18:31:50.620777Z"
    }
   }
  },
  {
   "cell_type": "code",
   "execution_count": 8,
   "outputs": [],
   "source": [
    "docs = {\n",
    "    'd1': 'Hamlet',\n",
    "    'd2': 'Romeo And Juliet',\n",
    "    'd3': 'the tempest'\n",
    "}"
   ],
   "metadata": {
    "collapsed": false,
    "ExecuteTime": {
     "end_time": "2023-09-21T18:31:51.911552200Z",
     "start_time": "2023-09-21T18:31:51.891015300Z"
    }
   }
  },
  {
   "cell_type": "code",
   "execution_count": 9,
   "outputs": [],
   "source": [
    "res.insert(loc=3, column='docname', value=[docs[docno] for docno in res['docno'].values])"
   ],
   "metadata": {
    "collapsed": false,
    "ExecuteTime": {
     "end_time": "2023-09-21T18:31:53.035239700Z",
     "start_time": "2023-09-21T18:31:53.021435200Z"
    }
   }
  },
  {
   "cell_type": "code",
   "execution_count": 10,
   "outputs": [
    {
     "data": {
      "text/plain": "   qid                                            query  docid docno  \\\n0    1                                 love and tragedy      0    d1   \n1    1                                 love and tragedy      1    d2   \n2    1                                 love and tragedy      2    d3   \n3    2          themes of revenge and madness in Hamlet      0    d1   \n4    2          themes of revenge and madness in Hamlet      1    d2   \n5    2          themes of revenge and madness in Hamlet      2    d3   \n6    3                  magical elements in The Tempest      2    d3   \n7    3                  magical elements in The Tempest      0    d1   \n8    3                  magical elements in The Tempest      1    d2   \n9    4  character analysis of Romeo in Romeo and Juliet      1    d2   \n10   4  character analysis of Romeo in Romeo and Juliet      2    d3   \n11   4  character analysis of Romeo in Romeo and Juliet      0    d1   \n12   5                     political intrigue in Hamlet      0    d1   \n13   6                    prospero magic in The Tempest      2    d3   \n14   6                    prospero magic in The Tempest      0    d1   \n15   6                    prospero magic in The Tempest      1    d2   \n16   7       romantic relationships in Romeo and Juliet      1    d2   \n17   8                              the ghost in Hamlet      0    d1   \n18   8                              the ghost in Hamlet      1    d2   \n19   9                    island setting in The Tempest      2    d3   \n20   9                    island setting in The Tempest      1    d2   \n21   9                    island setting in The Tempest      0    d1   \n22  10          fate vs. free will in Shakespeare works      2    d3   \n23  10          fate vs. free will in Shakespeare works      0    d1   \n24  10          fate vs. free will in Shakespeare works      1    d2   \n\n             docname  rank     score  \n0             Hamlet     0  2.292139  \n1   Romeo And Juliet     1  1.924642  \n2        the tempest     2  1.140275  \n3             Hamlet     0  5.509967  \n4   Romeo And Juliet     1  2.203128  \n5        the tempest     2  2.090331  \n6        the tempest     0  3.406587  \n7             Hamlet     1  1.914461  \n8   Romeo And Juliet     2  0.554605  \n9   Romeo And Juliet     0  3.584149  \n10       the tempest     1  0.573049  \n11            Hamlet     2  0.483043  \n12            Hamlet     0  3.444359  \n13       the tempest     0  4.591614  \n14            Hamlet     1  1.219928  \n15  Romeo And Juliet     2  0.554605  \n16  Romeo And Juliet     0  4.776993  \n17            Hamlet     0  3.920474  \n18  Romeo And Juliet     1  0.733148  \n19       the tempest     0  4.586670  \n20  Romeo And Juliet     1  1.685350  \n21            Hamlet     2  1.679102  \n22       the tempest     0  5.546066  \n23            Hamlet     1  5.239366  \n24  Romeo And Juliet     2  4.906013  ",
      "text/html": "<div>\n<style scoped>\n    .dataframe tbody tr th:only-of-type {\n        vertical-align: middle;\n    }\n\n    .dataframe tbody tr th {\n        vertical-align: top;\n    }\n\n    .dataframe thead th {\n        text-align: right;\n    }\n</style>\n<table border=\"1\" class=\"dataframe\">\n  <thead>\n    <tr style=\"text-align: right;\">\n      <th></th>\n      <th>qid</th>\n      <th>query</th>\n      <th>docid</th>\n      <th>docno</th>\n      <th>docname</th>\n      <th>rank</th>\n      <th>score</th>\n    </tr>\n  </thead>\n  <tbody>\n    <tr>\n      <th>0</th>\n      <td>1</td>\n      <td>love and tragedy</td>\n      <td>0</td>\n      <td>d1</td>\n      <td>Hamlet</td>\n      <td>0</td>\n      <td>2.292139</td>\n    </tr>\n    <tr>\n      <th>1</th>\n      <td>1</td>\n      <td>love and tragedy</td>\n      <td>1</td>\n      <td>d2</td>\n      <td>Romeo And Juliet</td>\n      <td>1</td>\n      <td>1.924642</td>\n    </tr>\n    <tr>\n      <th>2</th>\n      <td>1</td>\n      <td>love and tragedy</td>\n      <td>2</td>\n      <td>d3</td>\n      <td>the tempest</td>\n      <td>2</td>\n      <td>1.140275</td>\n    </tr>\n    <tr>\n      <th>3</th>\n      <td>2</td>\n      <td>themes of revenge and madness in Hamlet</td>\n      <td>0</td>\n      <td>d1</td>\n      <td>Hamlet</td>\n      <td>0</td>\n      <td>5.509967</td>\n    </tr>\n    <tr>\n      <th>4</th>\n      <td>2</td>\n      <td>themes of revenge and madness in Hamlet</td>\n      <td>1</td>\n      <td>d2</td>\n      <td>Romeo And Juliet</td>\n      <td>1</td>\n      <td>2.203128</td>\n    </tr>\n    <tr>\n      <th>5</th>\n      <td>2</td>\n      <td>themes of revenge and madness in Hamlet</td>\n      <td>2</td>\n      <td>d3</td>\n      <td>the tempest</td>\n      <td>2</td>\n      <td>2.090331</td>\n    </tr>\n    <tr>\n      <th>6</th>\n      <td>3</td>\n      <td>magical elements in The Tempest</td>\n      <td>2</td>\n      <td>d3</td>\n      <td>the tempest</td>\n      <td>0</td>\n      <td>3.406587</td>\n    </tr>\n    <tr>\n      <th>7</th>\n      <td>3</td>\n      <td>magical elements in The Tempest</td>\n      <td>0</td>\n      <td>d1</td>\n      <td>Hamlet</td>\n      <td>1</td>\n      <td>1.914461</td>\n    </tr>\n    <tr>\n      <th>8</th>\n      <td>3</td>\n      <td>magical elements in The Tempest</td>\n      <td>1</td>\n      <td>d2</td>\n      <td>Romeo And Juliet</td>\n      <td>2</td>\n      <td>0.554605</td>\n    </tr>\n    <tr>\n      <th>9</th>\n      <td>4</td>\n      <td>character analysis of Romeo in Romeo and Juliet</td>\n      <td>1</td>\n      <td>d2</td>\n      <td>Romeo And Juliet</td>\n      <td>0</td>\n      <td>3.584149</td>\n    </tr>\n    <tr>\n      <th>10</th>\n      <td>4</td>\n      <td>character analysis of Romeo in Romeo and Juliet</td>\n      <td>2</td>\n      <td>d3</td>\n      <td>the tempest</td>\n      <td>1</td>\n      <td>0.573049</td>\n    </tr>\n    <tr>\n      <th>11</th>\n      <td>4</td>\n      <td>character analysis of Romeo in Romeo and Juliet</td>\n      <td>0</td>\n      <td>d1</td>\n      <td>Hamlet</td>\n      <td>2</td>\n      <td>0.483043</td>\n    </tr>\n    <tr>\n      <th>12</th>\n      <td>5</td>\n      <td>political intrigue in Hamlet</td>\n      <td>0</td>\n      <td>d1</td>\n      <td>Hamlet</td>\n      <td>0</td>\n      <td>3.444359</td>\n    </tr>\n    <tr>\n      <th>13</th>\n      <td>6</td>\n      <td>prospero magic in The Tempest</td>\n      <td>2</td>\n      <td>d3</td>\n      <td>the tempest</td>\n      <td>0</td>\n      <td>4.591614</td>\n    </tr>\n    <tr>\n      <th>14</th>\n      <td>6</td>\n      <td>prospero magic in The Tempest</td>\n      <td>0</td>\n      <td>d1</td>\n      <td>Hamlet</td>\n      <td>1</td>\n      <td>1.219928</td>\n    </tr>\n    <tr>\n      <th>15</th>\n      <td>6</td>\n      <td>prospero magic in The Tempest</td>\n      <td>1</td>\n      <td>d2</td>\n      <td>Romeo And Juliet</td>\n      <td>2</td>\n      <td>0.554605</td>\n    </tr>\n    <tr>\n      <th>16</th>\n      <td>7</td>\n      <td>romantic relationships in Romeo and Juliet</td>\n      <td>1</td>\n      <td>d2</td>\n      <td>Romeo And Juliet</td>\n      <td>0</td>\n      <td>4.776993</td>\n    </tr>\n    <tr>\n      <th>17</th>\n      <td>8</td>\n      <td>the ghost in Hamlet</td>\n      <td>0</td>\n      <td>d1</td>\n      <td>Hamlet</td>\n      <td>0</td>\n      <td>3.920474</td>\n    </tr>\n    <tr>\n      <th>18</th>\n      <td>8</td>\n      <td>the ghost in Hamlet</td>\n      <td>1</td>\n      <td>d2</td>\n      <td>Romeo And Juliet</td>\n      <td>1</td>\n      <td>0.733148</td>\n    </tr>\n    <tr>\n      <th>19</th>\n      <td>9</td>\n      <td>island setting in The Tempest</td>\n      <td>2</td>\n      <td>d3</td>\n      <td>the tempest</td>\n      <td>0</td>\n      <td>4.586670</td>\n    </tr>\n    <tr>\n      <th>20</th>\n      <td>9</td>\n      <td>island setting in The Tempest</td>\n      <td>1</td>\n      <td>d2</td>\n      <td>Romeo And Juliet</td>\n      <td>1</td>\n      <td>1.685350</td>\n    </tr>\n    <tr>\n      <th>21</th>\n      <td>9</td>\n      <td>island setting in The Tempest</td>\n      <td>0</td>\n      <td>d1</td>\n      <td>Hamlet</td>\n      <td>2</td>\n      <td>1.679102</td>\n    </tr>\n    <tr>\n      <th>22</th>\n      <td>10</td>\n      <td>fate vs. free will in Shakespeare works</td>\n      <td>2</td>\n      <td>d3</td>\n      <td>the tempest</td>\n      <td>0</td>\n      <td>5.546066</td>\n    </tr>\n    <tr>\n      <th>23</th>\n      <td>10</td>\n      <td>fate vs. free will in Shakespeare works</td>\n      <td>0</td>\n      <td>d1</td>\n      <td>Hamlet</td>\n      <td>1</td>\n      <td>5.239366</td>\n    </tr>\n    <tr>\n      <th>24</th>\n      <td>10</td>\n      <td>fate vs. free will in Shakespeare works</td>\n      <td>1</td>\n      <td>d2</td>\n      <td>Romeo And Juliet</td>\n      <td>2</td>\n      <td>4.906013</td>\n    </tr>\n  </tbody>\n</table>\n</div>"
     },
     "execution_count": 10,
     "metadata": {},
     "output_type": "execute_result"
    }
   ],
   "source": [
    "res.reindex(columns=['qid', 'query', 'docid', 'docno', 'docname', 'rank', 'score'])"
   ],
   "metadata": {
    "collapsed": false,
    "ExecuteTime": {
     "end_time": "2023-09-21T18:31:53.770675600Z",
     "start_time": "2023-09-21T18:31:53.620272500Z"
    }
   }
  },
  {
   "cell_type": "code",
   "execution_count": null,
   "outputs": [],
   "source": [],
   "metadata": {
    "collapsed": false
   }
  }
 ],
 "metadata": {
  "kernelspec": {
   "display_name": "Python 3",
   "language": "python",
   "name": "python3"
  },
  "language_info": {
   "codemirror_mode": {
    "name": "ipython",
    "version": 2
   },
   "file_extension": ".py",
   "mimetype": "text/x-python",
   "name": "python",
   "nbconvert_exporter": "python",
   "pygments_lexer": "ipython2",
   "version": "2.7.6"
  }
 },
 "nbformat": 4,
 "nbformat_minor": 0
}
