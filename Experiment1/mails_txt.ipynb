{
 "cells": [
  {
   "cell_type": "code",
   "execution_count": 1,
   "id": "initial_id",
   "metadata": {
    "collapsed": true,
    "ExecuteTime": {
     "end_time": "2023-10-01T15:52:59.022663100Z",
     "start_time": "2023-10-01T15:52:59.011487Z"
    }
   },
   "outputs": [],
   "source": [
    "import mailbox\n",
    "import re"
   ]
  },
  {
   "cell_type": "code",
   "execution_count": 2,
   "outputs": [],
   "source": [
    "corpus_path = './mail_backup/Takeout/Mail/All mail Including Spam and Trash.mbox'\n",
    "mail_path = 'E:\\\\Pycharm\\\\IR\\\\Experiment1\\\\Mails'\n",
    "mbox = mailbox.mbox(corpus_path)"
   ],
   "metadata": {
    "collapsed": false,
    "ExecuteTime": {
     "end_time": "2023-10-01T15:52:59.039134700Z",
     "start_time": "2023-10-01T15:52:59.025982100Z"
    }
   },
   "id": "d96d72f1396aa1c1"
  },
  {
   "cell_type": "code",
   "execution_count": 3,
   "outputs": [],
   "source": [
    "for i, message in enumerate(mbox):\n",
    "    if i == 1000: break\n",
    "    subject = message[\"subject\"] or \"No Subject\"\n",
    "    body = \"\"\n",
    "    \n",
    "    if message.is_multipart():\n",
    "        for part in message.walk():\n",
    "            if part.is_multipart():\n",
    "                for subpart in part.walk():\n",
    "                    if subpart.get_content_type() == 'text/plain':\n",
    "                        body = subpart.get_payload(decode=True)\n",
    "            elif part.get_content_type() == 'text/plain':\n",
    "                body = part.get_payload(decode=True)\n",
    "    elif message.get_content_type() == 'text/plain':\n",
    "        body = message.get_payload(decode=True)\n",
    "        \n",
    "    # body = re.sub(r'[\\n]', ' ',str(body))\n",
    "    \n",
    "    with open(f\"{mail_path}\\\\email_{i}.txt\", \"w\", encoding=\"utf-8\") as email_file:\n",
    "        email_file.write(f\"Subject: {str(subject)}\\n\\n\")\n",
    "        email_file.write(str(body))"
   ],
   "metadata": {
    "collapsed": false,
    "ExecuteTime": {
     "end_time": "2023-10-01T15:53:18.318293500Z",
     "start_time": "2023-10-01T15:52:59.045136400Z"
    }
   },
   "id": "908ea496747d8f89"
  },
  {
   "cell_type": "code",
   "execution_count": 4,
   "outputs": [],
   "source": [
    "import nltk\n",
    "from nltk.tokenize import word_tokenize"
   ],
   "metadata": {
    "collapsed": false,
    "ExecuteTime": {
     "end_time": "2023-10-01T15:53:22.526968Z",
     "start_time": "2023-10-01T15:53:18.326287900Z"
    }
   },
   "id": "e8af3971150d2cfe"
  },
  {
   "cell_type": "code",
   "execution_count": 5,
   "outputs": [
    {
     "name": "stderr",
     "output_type": "stream",
     "text": [
      "[nltk_data] Error loading punkt: <urlopen error [WinError 10054] An\n",
      "[nltk_data]     existing connection was forcibly closed by the remote\n",
      "[nltk_data]     host>\n"
     ]
    },
    {
     "data": {
      "text/plain": "False"
     },
     "execution_count": 5,
     "metadata": {},
     "output_type": "execute_result"
    }
   ],
   "source": [
    "nltk.download('punkt')"
   ],
   "metadata": {
    "collapsed": false,
    "ExecuteTime": {
     "end_time": "2023-09-23T21:26:41.489929300Z",
     "start_time": "2023-09-23T21:26:40.465946Z"
    }
   },
   "id": "c244a15a95b9181b"
  },
  {
   "cell_type": "code",
   "execution_count": 13,
   "outputs": [
    {
     "name": "stdout",
     "output_type": "stream",
     "text": [
      "subject: Event Wrap-up: Indian Institute of Information Technology (IIIT)\n",
      " Vadodara - International Campus Diu - Diu, Introduction to Google Developer\n",
      " Student Clubs IIIT Vadodara ICD\n",
      "Body: Congratulations! Your latest Indian Institute of Information Technology (IIIT) Vadodara - International Campus Diu - Diu event is complete.Make sure you wrap up the event with the following actions:Complete your post event reporting form: https://u16161593.ct.sendgrid.net/ls/click?upn=6FylDzOsBjandYrle4FqVZSdv3-2BbZ0ATs1aFPrX0Lwy0eszshcY-2B95rNXFgpZMpDSYGSYCZr8zKoUo-2BxnOVh6x3SUmL-2FbH5UJ-2BdYEvHM19c-3D0KoX_Rvnj5CXQxq3t27sTtMaS76SN54WyxPe-2F9HXzKUueHZetT0xQ-2FrZrVQINtErG8KL-2BpGLmfI58vrhllbDeEekDTLO6EpVTrG-2FpUGegBp6o3ms99MR5EEhoszh62g4fVCzl0PlcirUUj8c5FUj2Az7XOnRNUnESyyq0c4fhje5YolrRcLMsXVO5sAalJoyv1ZAVxIB-2BbnSKeul02rJ-2B8BZfBrbhzLfoNOCgMnANwN0svz2RUjNLi57q27IgokME-2Fd8DOi-2BSjfyXrjQTBTVVA0a9EO7pXSylTLl04FVS6F0E-2BEMB4GD01azKc5Bm48OEeQc2 If you have a video or photos to upload, include them in the event wrap up tab.Make sure next month's event is online to keep the momentum going. Start creating it now!Look in the mirror and know you're awesome. Thanks for your amazing work.\n",
      "\n",
      "\n",
      "\n",
      "\n",
      "\n",
      "---\n",
      "\n",
      "View in browser: https://u16161593.ct.sendgrid.net/ls/click?upn=6FylDzOsBjandYrle4FqVZSdv3-2BbZ0ATs1aFPrX0Lwww-2F4aLXFYpI9LpCjVfU0l4MFHxNMbPmL1ohb54XF-2BGSa9UXQzpCVENOTEClFE-2BrmQ2Wecehn8MWCQXObzTkj7W9UCD_Rvnj5CXQxq3t27sTtMaS76SN54WyxPe-2F9HXzKUueHZetT0xQ-2FrZrVQINtErG8KL-2BpGLmfI58vrhllbDeEekDTLO6EpVTrG-2FpUGegBp6o3ms99MR5EEhoszh62g4fVCzl0PlcirUUj8c5FUj2Az7XOnRNUnESyyq0c4fhje5Yolp3fqS6ko-2BMFrJorZ-2FktDzyR3AJTe-2F7qKTkEzMimqO7JkVVDcp9YgxqyoyQ-2FFfJR-2F8gFeZ4LCOm9grh8YXQ9i3zaVoLVQievth9e4Fwt1zohPcAo5Vl4Hq9clKjlAGlmqq2Qz4JvUqXE0fyQCKCripb\n",
      "\n",
      "\n",
      "---\n",
      "Click here to unsubscribe: https://u16161593.ct.sendgrid.net/ls/click?upn=VV2HEC-2Fpe7sihHx9m-2BUmcs-2BdnFkKhwwi5VD5YfGijmo0MZi5SFxDTV8TT5gQPRXR6g8Y1qrYZ2c5aiYngv-2Bh7SspQjXxJqQFe-2F6kJSpAypiZLFr5mpAoqEqn5LfnnUDTlBo7spKdV6DDX22432MfOzfNT-2Bxa8DVixs1FHbeV6lFGIEFTQ-2Frw6URXhkhYUkkhleerQ6wJ0CzXTObUI4f37-2F7agcUU48f6vLeh4lOsNp2BGFogI8u9RgdQEcHA8KZkXqbQ7XEYOBdiC6DSlFQApoSYNz5tuega6MMePNmrdVRM9S-2B06eH-2B4KWcyqGaA3t-2FwHKi_Rvnj5CXQxq3t27sTtMaS76SN54WyxPe-2F9HXzKUueHZetT0xQ-2FrZrVQINtErG8KL-2BpGLmfI58vrhllbDeEekDTLO6EpVTrG-2FpUGegBp6o3ms99MR5EEhoszh62g4fVCzl0PlcirUUj8c5FUj2Az7XOnRNUnESyyq0c4fhje5Yolpu8r0Y0OmJSlW6dpq5A5hlWT3KT8r6j5rq2iU9IAfXvLfHvZMo9gVr87MM4-2Fe5Si7Us57YLJ1-2Bx5XDrn2apGeobNtwUUL9JpOQEf4ChrbrvNqe5CB-2BBykeqwbRLj3QYJqST0Jd7CH57G60kFtpz11f\n"
     ]
    }
   ],
   "source": [
    "i = 0\n",
    "for message in mbox:\n",
    "    if i == 1: break\n",
    "    subject = message[\"subject\"]\n",
    "    body = 'none'\n",
    "    if message.is_multipart():\n",
    "        for part in message.walk():\n",
    "            content_type = part.get_content_type()\n",
    "            if content_type == \"text/plain\":\n",
    "                body = part.get_payload(decode=True).decode(\"utf-8\")\n",
    "    else:\n",
    "        body = message.get_payload(decode=True).decode(\"utf-8\")\n",
    "    \n",
    "    # Tokenize and extract words\n",
    "    # subject_words = word_tokenize(subject)\n",
    "    # body_words = word_tokenize(body)\n",
    "    i += 1\n",
    "    print(f'subject: {subject}\\nBody: {body}')"
   ],
   "metadata": {
    "collapsed": false,
    "ExecuteTime": {
     "end_time": "2023-09-23T21:38:52.133454200Z",
     "start_time": "2023-09-23T21:38:52.122763300Z"
    }
   },
   "id": "e45dab5a1c78b08d"
  },
  {
   "cell_type": "code",
   "execution_count": null,
   "outputs": [],
   "source": [],
   "metadata": {
    "collapsed": false
   },
   "id": "42366a721b905b36"
  }
 ],
 "metadata": {
  "kernelspec": {
   "display_name": "Python 3",
   "language": "python",
   "name": "python3"
  },
  "language_info": {
   "codemirror_mode": {
    "name": "ipython",
    "version": 2
   },
   "file_extension": ".py",
   "mimetype": "text/x-python",
   "name": "python",
   "nbconvert_exporter": "python",
   "pygments_lexer": "ipython2",
   "version": "2.7.6"
  }
 },
 "nbformat": 4,
 "nbformat_minor": 5
}
