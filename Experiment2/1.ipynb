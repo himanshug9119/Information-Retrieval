{
 "cells": [
  {
   "cell_type": "code",
   "execution_count": 3,
   "metadata": {
    "ExecuteTime": {
     "end_time": "2023-10-25T07:54:09.771764500Z",
     "start_time": "2023-10-25T07:54:06.693754100Z"
    }
   },
   "outputs": [],
   "source": [
    "import re\n",
    "import nltk\n",
    "from hdfs import InsecureClient\n",
    "from nltk.corpus import stopwords\n",
    "from nltk.stem import PorterStemmer\n",
    "from nltk.tokenize import word_tokenize\n",
    "import matplotlib.pyplot as plt\n",
    "from spellchecker import SpellChecker"
   ]
  },
  {
   "cell_type": "code",
   "execution_count": 39,
   "metadata": {
    "ExecuteTime": {
     "end_time": "2023-10-14T15:34:56.182686700Z",
     "start_time": "2023-10-14T15:32:18.195677200Z"
    },
    "collapsed": false
   },
   "outputs": [
    {
     "name": "stderr",
     "output_type": "stream",
     "text": [
      "[nltk_data] Downloading package averaged_perceptron_tagger to\n",
      "[nltk_data]     C:\\Users\\91996\\AppData\\Roaming\\nltk_data...\n",
      "[nltk_data]   Unzipping taggers\\averaged_perceptron_tagger.zip.\n"
     ]
    },
    {
     "data": {
      "text/plain": [
       "True"
      ]
     },
     "execution_count": 39,
     "metadata": {},
     "output_type": "execute_result"
    }
   ],
   "source": [
    "nltk.download('averaged_perceptron_tagger')"
   ]
  },
  {
   "cell_type": "code",
   "execution_count": 2,
   "metadata": {
    "ExecuteTime": {
     "end_time": "2023-10-24T10:44:09.134698500Z",
     "start_time": "2023-10-24T10:44:09.106689900Z"
    }
   },
   "outputs": [],
   "source": [
    "hdfs_url = \"http://localhost:9870\"\n",
    "client = InsecureClient(hdfs_url, user=\"cran\")"
   ]
  },
  {
   "cell_type": "code",
   "execution_count": 3,
   "metadata": {
    "ExecuteTime": {
     "end_time": "2023-10-24T10:44:11.074528200Z",
     "start_time": "2023-10-24T10:44:11.047375900Z"
    }
   },
   "outputs": [],
   "source": [
    "output_path = \"/user/cran/output/0-r-00000\""
   ]
  },
  {
   "cell_type": "code",
   "execution_count": 4,
   "metadata": {
    "ExecuteTime": {
     "end_time": "2023-10-24T10:44:22.788011800Z",
     "start_time": "2023-10-24T10:44:12.685911300Z"
    }
   },
   "outputs": [],
   "source": [
    "inverted_index = {}\n",
    "with client.read(output_path, encoding='utf-8') as reader:\n",
    "    for line in reader:\n",
    "        line = line.split()\n",
    "        inverted_index[line[0]] = line[1:]\n",
    "        # inverted_index[line[0]] = [int(doc) for doc in line[1:]]"
   ]
  },
  {
   "cell_type": "code",
   "execution_count": null,
   "metadata": {},
   "outputs": [],
   "source": []
  },
  {
   "cell_type": "code",
   "execution_count": 6,
   "metadata": {
    "ExecuteTime": {
     "end_time": "2023-10-24T10:45:57.781151400Z",
     "start_time": "2023-10-24T10:45:57.755515Z"
    },
    "collapsed": false
   },
   "outputs": [],
   "source": [
    "for word in inverted_index:\n",
    "    inverted_index[word] = [int(doc) for doc in sorted(list(inverted_index[word]), key=lambda doc: int(doc))]"
   ]
  },
  {
   "cell_type": "code",
   "execution_count": 55,
   "metadata": {
    "ExecuteTime": {
     "end_time": "2023-10-14T15:38:23.747376900Z",
     "start_time": "2023-10-14T15:38:23.665882600Z"
    }
   },
   "outputs": [],
   "source": [
    "# sorted_inverted_index = {}\n",
    "# for word in inverted_index:\n",
    "#     sorted_inverted_index[word] = [int(doc) for doc in sorted(list(inverted_index[word]), key=lambda doc: int(doc))]"
   ]
  },
  {
   "cell_type": "code",
   "execution_count": 8,
   "metadata": {
    "ExecuteTime": {
     "end_time": "2023-10-24T10:47:19.752821700Z",
     "start_time": "2023-10-24T10:47:19.675699200Z"
    },
    "collapsed": false
   },
   "outputs": [],
   "source": [
    "def boolean_and(list1, list2):\n",
    "    result = []\n",
    "    i, j = 0, 0\n",
    "    while i < len(list1) and j < len(list2):\n",
    "        if list1[i] == list2[j]:\n",
    "            result.append(list1[i])\n",
    "            i += 1\n",
    "            j += 1\n",
    "        elif list1[i] < list2[j]: i += 1\n",
    "        else: j += 1\n",
    "    return result"
   ]
  },
  {
   "cell_type": "code",
   "execution_count": 9,
   "metadata": {
    "ExecuteTime": {
     "end_time": "2023-10-24T10:47:20.335624600Z",
     "start_time": "2023-10-24T10:47:20.304199Z"
    },
    "collapsed": false
   },
   "outputs": [],
   "source": [
    "def boolean_or(list1, list2):\n",
    "    result = []\n",
    "    i, j = 0, 0\n",
    "    while i < len(list1) and j < len(list2):\n",
    "        if list1[i] == list2[j]:\n",
    "            result.append(list1[i])\n",
    "            i += 1\n",
    "            j += 1\n",
    "        elif list1[i] < list2[j]:\n",
    "            result.append(list1[i])\n",
    "            i += 1\n",
    "        else:\n",
    "            result.append(list2[j])\n",
    "            j += 1\n",
    "    result.extend(list1[i:])\n",
    "    result.extend(list2[j:])\n",
    "    return result"
   ]
  },
  {
   "cell_type": "code",
   "execution_count": 10,
   "metadata": {
    "ExecuteTime": {
     "end_time": "2023-10-24T10:47:20.733461300Z",
     "start_time": "2023-10-24T10:47:20.702984900Z"
    },
    "collapsed": false
   },
   "outputs": [],
   "source": [
    "def boolean_not(list1, total_documents):\n",
    "    all_documents = list(range(total_documents))\n",
    "    result = []\n",
    "    i, j = 0, 0\n",
    "    while i < len(all_documents) and j < len(list1):\n",
    "        if all_documents[i] == list1[j]:\n",
    "            i += 1\n",
    "            j += 1\n",
    "        elif all_documents[i] < list1[j]:\n",
    "            result.append(all_documents[i])\n",
    "            i += 1\n",
    "        else: j += 1\n",
    "    result.extend(all_documents[i:])\n",
    "    return result"
   ]
  },
  {
   "cell_type": "code",
   "execution_count": 11,
   "metadata": {
    "ExecuteTime": {
     "end_time": "2023-10-24T10:47:21.340334400Z",
     "start_time": "2023-10-24T10:47:21.311502600Z"
    },
    "collapsed": false
   },
   "outputs": [],
   "source": [
    "def evaluate_boolean_query(query, inverted_index, total_documents):\n",
    "    def precedence(op):\n",
    "        if op == 'NOT':\n",
    "            return 2\n",
    "        elif op == 'AND':\n",
    "            return 1\n",
    "        elif op == 'OR':\n",
    "            return 0\n",
    "        else:\n",
    "            return -1\n",
    "\n",
    "    def apply_operator(operands, operator):\n",
    "        if operator == 'AND':\n",
    "            operand2 = operands.pop()\n",
    "            operand1 = operands.pop()\n",
    "            return boolean_and(operand1, operand2)\n",
    "        elif operator == 'OR':\n",
    "            operand2 = operands.pop()\n",
    "            operand1 = operands.pop()\n",
    "            return boolean_or(operand1, operand2)\n",
    "        elif operator == 'NOT':\n",
    "            operand = operands.pop()\n",
    "            return boolean_not(operand, total_documents)\n",
    "        else:\n",
    "            raise ValueError(\"Invalid operator: \" + operator)\n",
    "\n",
    "    query_tokens = query.split()\n",
    "    stack = []\n",
    "    operators = []\n",
    "\n",
    "    for token in query_tokens:\n",
    "        if token.upper() in ('AND', 'OR', 'NOT'):\n",
    "            while (\n",
    "                operators\n",
    "                and precedence(operators[-1]) >= precedence(token.upper())\n",
    "            ):\n",
    "                operator = operators.pop()\n",
    "                stack.append(apply_operator(stack, operator))\n",
    "            operators.append(token.upper())\n",
    "        else:\n",
    "            stack.append(inverted_index.get(token, []))\n",
    "\n",
    "    while operators:\n",
    "        operator = operators.pop()\n",
    "        stack.append(apply_operator(stack, operator))\n",
    "\n",
    "    if stack:\n",
    "        return stack[0]\n",
    "    else:\n",
    "        return []"
   ]
  },
  {
   "cell_type": "code",
   "execution_count": null,
   "metadata": {},
   "outputs": [],
   "source": [
    "evaluate_boolean_query()"
   ]
  },
  {
   "cell_type": "code",
   "execution_count": 12,
   "metadata": {
    "ExecuteTime": {
     "end_time": "2023-10-24T10:47:23.093076700Z",
     "start_time": "2023-10-24T10:47:23.064689800Z"
    },
    "collapsed": false
   },
   "outputs": [],
   "source": [
    "total_documents = 1400"
   ]
  },
  {
   "cell_type": "code",
   "execution_count": 53,
   "metadata": {
    "ExecuteTime": {
     "end_time": "2023-10-24T13:01:59.688114100Z",
     "start_time": "2023-10-24T13:01:59.626112700Z"
    },
    "collapsed": false
   },
   "outputs": [
    {
     "data": {
      "text/plain": [
       "'[30, 55, 110, 126, 139, 140, 218, 321, 322, 472, 545, 605, 813, 895, 907, 914, 932, 1000, 1062, 1087, 1117, 1162, 1185, 1299]'"
      ]
     },
     "execution_count": 53,
     "metadata": {},
     "output_type": "execute_result"
    }
   ],
   "source": [
    "str(evaluate_boolean_query(\"computer AND machine NOT science\", inverted_index, 1400))"
   ]
  },
  {
   "cell_type": "markdown",
   "metadata": {
    "collapsed": false
   },
   "source": [
    "Question 2:"
   ]
  },
  {
   "cell_type": "code",
   "execution_count": 18,
   "metadata": {
    "collapsed": false,
    "ExecuteTime": {
     "end_time": "2023-10-25T07:55:49.578967600Z",
     "start_time": "2023-10-25T07:55:49.524562300Z"
    }
   },
   "outputs": [],
   "source": [
    "queries = []\n",
    "current_query = None\n",
    "\n",
    "with open(\"cran/cran.qry\", \"r\") as file:\n",
    "    lines = file.readlines()\n",
    "\n",
    "for line in lines:\n",
    "    line = line.strip()\n",
    "    if line.startswith(\".I\"):\n",
    "        if current_query is not None:\n",
    "            queries.append(current_query)\n",
    "        current_query = \"\"\n",
    "    elif current_query is not None:\n",
    "        if line.startswith('.W'):\n",
    "            line = line.removeprefix(\".W\")\n",
    "        current_query += line + \" \"\n",
    "\n",
    "if current_query is not None:\n",
    "    queries.append(current_query)"
   ]
  },
  {
   "cell_type": "code",
   "execution_count": 18,
   "metadata": {
    "collapsed": false,
    "ExecuteTime": {
     "end_time": "2023-10-25T07:55:51.896904100Z",
     "start_time": "2023-10-25T07:55:51.853921500Z"
    }
   },
   "outputs": [],
   "source": []
  },
  {
   "cell_type": "code",
   "execution_count": 19,
   "metadata": {
    "collapsed": false,
    "ExecuteTime": {
     "end_time": "2023-10-25T07:55:53.175871900Z",
     "start_time": "2023-10-25T07:55:53.123563Z"
    }
   },
   "outputs": [],
   "source": [
    "number_queries = len(queries)\n",
    "query_relevant_docs = [[] for i in range(number_queries)]\n",
    "\n",
    "with open(\"cran/cranqrel\", \"r\") as file:\n",
    "    lines = file.readlines()\n",
    "\n",
    "query_no = 0\n",
    "last_qid = None\n",
    "for line in lines:\n",
    "    parts = line.split()\n",
    "    if len(parts) == 3:\n",
    "        query_id = int(parts[0])\n",
    "        document_number = int(parts[1]) - 1\n",
    "        relevance = int(parts[2])\n",
    "        \n",
    "        if last_qid is None: last_qid = query_id\n",
    "        elif last_qid != query_id: \n",
    "            last_qid = query_id\n",
    "            query_no += 1\n",
    "        \n",
    "        if relevance != -1:\n",
    "            query_relevant_docs[query_no].append(\n",
    "                {\"docno\": document_number, \"rel\": relevance})\n",
    "\n",
    "query_relevant_docs = [\n",
    "    [\n",
    "        doc['docno'] \n",
    "        for doc in sorted(docs, \n",
    "                          key=lambda doc: doc['rel'], \n",
    "                          reverse=True)\n",
    "    ] \n",
    "    for docs in query_relevant_docs\n",
    "]"
   ]
  },
  {
   "cell_type": "markdown",
   "metadata": {
    "collapsed": false
   },
   "source": [
    "Without stemming"
   ]
  },
  {
   "cell_type": "code",
   "execution_count": 4,
   "metadata": {
    "collapsed": false,
    "ExecuteTime": {
     "end_time": "2023-10-25T07:54:29.602456Z",
     "start_time": "2023-10-25T07:54:29.553801400Z"
    }
   },
   "outputs": [],
   "source": [
    "stop_words = set(stopwords.words('english'))"
   ]
  },
  {
   "cell_type": "code",
   "execution_count": 19,
   "metadata": {
    "ExecuteTime": {
     "end_time": "2023-10-24T10:48:06.456425700Z",
     "start_time": "2023-10-24T10:48:06.379160Z"
    },
    "collapsed": false
   },
   "outputs": [],
   "source": [
    "spell = SpellChecker()"
   ]
  },
  {
   "cell_type": "code",
   "execution_count": 20,
   "metadata": {
    "ExecuteTime": {
     "end_time": "2023-10-24T10:48:11.601643100Z",
     "start_time": "2023-10-24T10:48:11.569878100Z"
    },
    "collapsed": false
   },
   "outputs": [],
   "source": [
    "def evaluate_query(query: str):\n",
    "    tokenized_query = word_tokenize(query)\n",
    "    filtered_query = [word for word in tokenized_query \n",
    "                      if word.lower() not in stop_words \n",
    "                      and word != '.']\n",
    "    j = 0\n",
    "    cnt = 0\n",
    "    pos1 = []\n",
    "    pos2 = []\n",
    "    for word in filtered_query:\n",
    "        if word in inverted_index:\n",
    "            if j == 0: pos1 = inverted_index[word]\n",
    "            if j == 1: pos2 = inverted_index[word]\n",
    "            j += 1\n",
    "        cnt += 1\n",
    "        if j == 2:\n",
    "            break\n",
    "    ans = boolean_and(pos1, pos2)\n",
    "    for i, word in enumerate(filtered_query):\n",
    "        if i < cnt: continue\n",
    "        if word in inverted_index:\n",
    "            pos = inverted_index[word]\n",
    "            if i % 3:\n",
    "                ans = boolean_or(ans, pos)\n",
    "            else:\n",
    "                ans = boolean_and(ans, pos)\n",
    "    return ans"
   ]
  },
  {
   "cell_type": "code",
   "execution_count": 54,
   "metadata": {
    "ExecuteTime": {
     "end_time": "2023-10-24T14:30:04.610364100Z",
     "start_time": "2023-10-24T14:30:04.560896800Z"
    },
    "collapsed": false
   },
   "outputs": [],
   "source": [
    "def evaluate_system_without_stemming():\n",
    "    precision_values = [[] for i in range(len(queries))]\n",
    "    recall_values = [[] for i in range(len(queries))]\n",
    "    for i, query in enumerate(queries[:]):\n",
    "        retrieved_docs = evaluate_query(query)        \n",
    "        if len(retrieved_docs) == 0:\n",
    "            precision_values[i].append(0)\n",
    "            recall_values[i].append(0)\n",
    "        \n",
    "        for k in range(1, len(retrieved_docs) + 1):\n",
    "            relevant_docs_retrieved = list(set(retrieved_docs[:k]) \n",
    "                                           & set(query_relevant_docs[i]))\n",
    "            precision = len(relevant_docs_retrieved) / len(retrieved_docs[:k])\n",
    "            recall = len(relevant_docs_retrieved) / len(query_relevant_docs[i])\n",
    "            precision_values[i].append(precision)\n",
    "            recall_values[i].append(recall)\n",
    "        \n",
    "        if i == 0:\n",
    "            interpolated_precision_values = [\n",
    "                max(precision_values[i][k:]) \n",
    "                for k in range(len(recall_values[i]))\n",
    "            ]\n",
    "            plt.Figure()\n",
    "            plt.plot(recall_values[i], precision_values[i], \n",
    "                     label='Precision')\n",
    "            plt.plot(recall_values[i], interpolated_precision_values, \n",
    "                     label='Interpolated precision', color='red', linewidth=1)\n",
    "            plt.title(f'PR curve for \\'{query}\\'')\n",
    "            plt.xlabel('Recall')\n",
    "            plt.ylabel('Precision')\n",
    "            plt.legend()\n",
    "            plt.show()  \n",
    "    MAP = 0\n",
    "    for j in range(len(queries[:])):\n",
    "        MAP += sum(precision_values[j]) / len(precision_values[j])\n",
    "    MAP /= len(queries[:])\n",
    "    print(f'MAP of the system : {MAP}')"
   ]
  },
  {
   "cell_type": "code",
   "execution_count": 55,
   "metadata": {
    "ExecuteTime": {
     "end_time": "2023-10-24T14:30:13.003489600Z",
     "start_time": "2023-10-24T14:30:11.884195Z"
    },
    "collapsed": false,
    "scrolled": true
   },
   "outputs": [
    {
     "data": {
      "image/png": "[encoded data removed]",
      "text/plain": [
       "<Figure size 640x480 with 1 Axes>"
      ]
     },
     "metadata": {},
     "output_type": "display_data"
    },
    {
     "name": "stdout",
     "output_type": "stream",
     "text": [
      "MAP of the system : 0.005328429745698827\n"
     ]
    }
   ],
   "source": [
    "evaluate_system_without_stemming()"
   ]
  },
  {
   "cell_type": "markdown",
   "metadata": {
    "collapsed": false
   },
   "source": [
    "With Stemming"
   ]
  },
  {
   "cell_type": "code",
   "execution_count": null,
   "metadata": {},
   "outputs": [],
   "source": [
    "stemmed_inverted_index = {}\n",
    "output_path_stemmed = \"/user/cran/stemmed/output/0-r-00000\"\n",
    "with client.read(output_path_stemmed, encoding='utf-8') as reader:\n",
    "    for line in reader:\n",
    "        line = line.split()\n",
    "        stemmed_inverted_index[line[0]] = [int(doc) for doc in line[1:]]"
   ]
  },
  {
   "cell_type": "code",
   "execution_count": 5,
   "metadata": {
    "collapsed": false,
    "ExecuteTime": {
     "end_time": "2023-10-25T07:54:40.961609100Z",
     "start_time": "2023-10-25T07:54:40.926457700Z"
    }
   },
   "outputs": [],
   "source": [
    "stemmer = PorterStemmer()"
   ]
  },
  {
   "cell_type": "code",
   "execution_count": 24,
   "metadata": {
    "ExecuteTime": {
     "end_time": "2023-10-24T10:48:29.496745Z",
     "start_time": "2023-10-24T10:48:29.459409700Z"
    },
    "collapsed": false
   },
   "outputs": [],
   "source": [
    "stemmed_inverted_index = {}\n",
    "for word in inverted_index:\n",
    "    if word in stop_words: continue\n",
    "    stemmed_word = stemmer.stem(word)\n",
    "    if stemmed_word not in stemmed_inverted_index:\n",
    "        stemmed_inverted_index[stemmed_word] = inverted_index[word]\n",
    "    else:\n",
    "        stemmed_inverted_index[stemmed_word].extend(inverted_index[word])\n",
    "\n",
    "stemmed_inverted_index = { word: sorted(docs) for word, docs in stemmed_inverted_index.items()}"
   ]
  },
  {
   "cell_type": "code",
   "execution_count": 25,
   "metadata": {
    "ExecuteTime": {
     "end_time": "2023-10-24T10:48:30.763040900Z",
     "start_time": "2023-10-24T10:48:30.732975400Z"
    },
    "collapsed": false
   },
   "outputs": [],
   "source": [
    "def evaluate_query_2(query: str):\n",
    "    query = re.sub('-,\\'', ' ', query)\n",
    "    tokenized_query = word_tokenize(query)\n",
    "    filtered_query = [stemmer.stem(word) \n",
    "                      for word in tokenized_query \n",
    "                      if word.lower() not in stop_words and word != '.']\n",
    "    j = 0\n",
    "    cnt = 0\n",
    "    pos1 = []\n",
    "    pos2 = []\n",
    "    for word in filtered_query:\n",
    "        if word in stemmed_inverted_index:\n",
    "            if j == 0: pos1 = stemmed_inverted_index[word]\n",
    "            if j == 1: pos2 = stemmed_inverted_index[word]\n",
    "            j += 1\n",
    "        cnt += 1\n",
    "        if j == 2:\n",
    "            break\n",
    "    ans = boolean_or(pos1, pos2)\n",
    "    for i, word in enumerate(filtered_query):\n",
    "        if i < cnt: continue\n",
    "        if word in stemmed_inverted_index:\n",
    "            pos = stemmed_inverted_index[word]\n",
    "            if i % 3:\n",
    "                ans = boolean_or(ans, pos)\n",
    "            else: \n",
    "                ans = boolean_and(ans, pos)\n",
    "    return ans"
   ]
  },
  {
   "cell_type": "code",
   "execution_count": 58,
   "metadata": {
    "ExecuteTime": {
     "end_time": "2023-10-24T15:51:02.410775100Z",
     "start_time": "2023-10-24T15:51:02.342543600Z"
    },
    "collapsed": false
   },
   "outputs": [],
   "source": [
    "def evaluate_system_with_stemming():  \n",
    "    precision_values = [[] for i in range(len(queries))]\n",
    "    recall_values = [[] for i in range(len(queries))]\n",
    "    \n",
    "    for i, query in enumerate(queries[:]):\n",
    "        retrieved_docs = evaluate_query_2(query)        \n",
    "        if len(retrieved_docs) == 0:\n",
    "            precision_values[i].append(0)\n",
    "            recall_values[i].append(0)\n",
    "        \n",
    "        for k in range(1, len(retrieved_docs) + 1):\n",
    "            relevant_docs_retrieved = list(set(retrieved_docs[:k]) & \n",
    "                                           set(query_relevant_docs[i]))\n",
    "            precision = len(relevant_docs_retrieved) / len(retrieved_docs[:k])\n",
    "            recall = len(relevant_docs_retrieved) / len(query_relevant_docs[i])\n",
    "            precision_values[i].append(precision)\n",
    "            recall_values[i].append(recall)\n",
    "        \n",
    "        if i == 0:\n",
    "            interpolated_precision_values = [max(precision_values[i][k:]) \n",
    "                                             for k in range(len(recall_values[i]))]\n",
    "            plt.Figure()\n",
    "            plt.plot(recall_values[i], precision_values[i], label='Precision')\n",
    "            plt.plot(recall_values[i], interpolated_precision_values, \n",
    "                     label='Interpolated precision', color='red', linewidth=1)\n",
    "            plt.title(f'PR curve for \\'{query}\\'')\n",
    "            plt.xlabel('Recall')\n",
    "            plt.ylabel('Precision')\n",
    "            plt.legend()\n",
    "            plt.show()  \n",
    "    MAP = 0\n",
    "    for j in range(len(queries[:])):\n",
    "        MAP += sum(precision_values[j]) / len(precision_values[j])\n",
    "    MAP /= len(queries[:])\n",
    "    print(f'MAP of the system : {MAP}')\n",
    "            "
   ]
  },
  {
   "cell_type": "code",
   "execution_count": 59,
   "metadata": {
    "ExecuteTime": {
     "end_time": "2023-10-24T15:51:13.818476Z",
     "start_time": "2023-10-24T15:51:12.800511900Z"
    },
    "collapsed": false
   },
   "outputs": [
    {
     "data": {
      "image/png": "[encoded data removed]",
      "text/plain": [
       "<Figure size 640x480 with 1 Axes>"
      ]
     },
     "metadata": {},
     "output_type": "display_data"
    },
    {
     "name": "stdout",
     "output_type": "stream",
     "text": [
      "MAP of the system : 0.004860685024724134\n"
     ]
    }
   ],
   "source": [
    "evaluate_system_with_stemming()"
   ]
  },
  {
   "cell_type": "markdown",
   "metadata": {
    "collapsed": false
   },
   "source": [
    "Zone indexing"
   ]
  },
  {
   "cell_type": "code",
   "execution_count": 6,
   "metadata": {
    "collapsed": false,
    "ExecuteTime": {
     "end_time": "2023-10-25T07:54:46.543174Z",
     "start_time": "2023-10-25T07:54:46.478450600Z"
    }
   },
   "outputs": [],
   "source": [
    "cran_zones = {}\n",
    "\n",
    "def index_document(doc_id, title, body):\n",
    "    document = {\n",
    "        \"title\": title.strip(),\n",
    "        \"body\": body.strip()\n",
    "    }\n",
    "    \n",
    "    cran_zones[doc_id] = document\n",
    "\n",
    "def process_document(file):\n",
    "    doc_id = None\n",
    "    current_field = None\n",
    "    title = \"\"\n",
    "    body = \"\"\n",
    "\n",
    "    for line in file:\n",
    "        if line.startswith(\".I\"):\n",
    "            if doc_id:\n",
    "                index_document(doc_id, title, body)\n",
    "            doc_id = int(line.split()[-1])\n",
    "            title = \"\"\n",
    "            body = \"\"\n",
    "            current_field = None\n",
    "        elif line.startswith(\".T\"):\n",
    "            current_field = \"title\"\n",
    "        elif line.startswith(\".W\"):\n",
    "            current_field = \"body\"\n",
    "        elif current_field == \"title\" or current_field == \"body\":\n",
    "            if line.startswith(\".A\") or line.startswith(\".B\"):\n",
    "                current_field = None\n",
    "            else:\n",
    "                if current_field == \"title\":\n",
    "                    title += line\n",
    "                elif current_field == \"body\":\n",
    "                    body += line\n",
    "\n",
    "    if doc_id:\n",
    "        index_document(doc_id, title, body)\n",
    "\n",
    "with open(\"cran/cran.all\", \"r\") as file:\n",
    "    process_document(file)"
   ]
  },
  {
   "cell_type": "code",
   "execution_count": 10,
   "metadata": {
    "collapsed": false,
    "ExecuteTime": {
     "end_time": "2023-10-25T07:55:06.869873700Z",
     "start_time": "2023-10-25T07:55:06.855940Z"
    }
   },
   "outputs": [],
   "source": [
    "def clean_and_preprocess_text(text):\n",
    "    text = text.lower()\n",
    "    text = re.sub(r'[^a-zA-Z0-9\\s]', '', text)\n",
    "    text = re.sub(r'\\s+', ' ', text).strip()\n",
    "    return text"
   ]
  },
  {
   "cell_type": "code",
   "execution_count": 11,
   "metadata": {
    "collapsed": false,
    "ExecuteTime": {
     "end_time": "2023-10-25T07:55:06.903396300Z",
     "start_time": "2023-10-25T07:55:06.872073900Z"
    }
   },
   "outputs": [],
   "source": [
    "def remove_stopword(tokens):\n",
    "    return [token for token in tokens \n",
    "            if token and token not in stop_words]"
   ]
  },
  {
   "cell_type": "code",
   "execution_count": 12,
   "metadata": {
    "collapsed": false,
    "ExecuteTime": {
     "end_time": "2023-10-25T07:55:24.436967900Z",
     "start_time": "2023-10-25T07:55:08.061987400Z"
    }
   },
   "outputs": [],
   "source": [
    "zone_index = {}\n",
    "\n",
    "for docid, document in list(cran_zones.items()):\n",
    "    title =  word_tokenize(clean_and_preprocess_text(document[\"title\"]))\n",
    "    body = word_tokenize(clean_and_preprocess_text(document[\"body\"]))\n",
    "    \n",
    "    processed_title = remove_stopword(title)\n",
    "    processed_body = remove_stopword(body)\n",
    "    \n",
    "    for word in title:\n",
    "        if word not in zone_index:\n",
    "            zone_index[word] = [{\n",
    "                \"docno\": docid,\n",
    "                \"zones\": [\"title\"]\n",
    "            }]\n",
    "        else:\n",
    "            doc_existed = False\n",
    "            for i, zone in enumerate(zone_index[word]):\n",
    "                if docid == zone[\"docno\"] and \"title\" not in zone[\"zones\"]:\n",
    "                    zone_index[word][i][\"zones\"].append(\"title\")\n",
    "                    doc_existed = True\n",
    "                    break\n",
    "            if not doc_existed:\n",
    "                zone_index[word].append({\n",
    "                    \"docno\": docid,\n",
    "                    \"zones\": [\"title\"]\n",
    "                })\n",
    "    for word in body:\n",
    "        if word not in zone_index:\n",
    "            zone_index[word] = [{\n",
    "                \"docno\": docid,\n",
    "                \"zones\": [\"body\"]\n",
    "            }]\n",
    "        else:\n",
    "            doc_existed = False\n",
    "            for i, zone in enumerate(zone_index[word]):\n",
    "                if docid == zone[\"docno\"]:\n",
    "                    doc_existed = True\n",
    "                    if \"body\" not in zone[\"zones\"]:\n",
    "                        zone_index[word][i][\"zones\"].append(\"body\")\n",
    "                        doc_existed = True\n",
    "                        break\n",
    "                    \n",
    "            if not doc_existed:\n",
    "                zone_index[word].append({\n",
    "                    \"docno\": docid,\n",
    "                    \"zones\": [\"body\"]\n",
    "                })"
   ]
  },
  {
   "cell_type": "code",
   "execution_count": 13,
   "metadata": {
    "collapsed": false,
    "ExecuteTime": {
     "end_time": "2023-10-25T07:55:24.450963100Z",
     "start_time": "2023-10-25T07:55:24.440062500Z"
    }
   },
   "outputs": [],
   "source": [
    "def boolean_and_zonal(list1, list2):\n",
    "    result = []\n",
    "    i, j = 0, 0\n",
    "\n",
    "    while i < len(list1) and j < len(list2):\n",
    "        if list1[i]['docno'] == list2[j]['docno']:\n",
    "            result.append(list1[i])\n",
    "            i += 1\n",
    "            j += 1\n",
    "        elif list1[i]['docno'] < list2[j]['docno']:\n",
    "            i += 1\n",
    "        else:\n",
    "            j += 1\n",
    "\n",
    "    return result"
   ]
  },
  {
   "cell_type": "code",
   "execution_count": 14,
   "metadata": {
    "collapsed": false,
    "ExecuteTime": {
     "end_time": "2023-10-25T07:55:24.495249600Z",
     "start_time": "2023-10-25T07:55:24.455803600Z"
    }
   },
   "outputs": [],
   "source": [
    "def boolean_or_zonal(list1, list2):\n",
    "    result = []\n",
    "    i, j = 0, 0\n",
    "\n",
    "    while i < len(list1) and j < len(list2):\n",
    "        doc1 = list1[i]['docno']\n",
    "        doc2 = list2[j]['docno']\n",
    "        if doc1 == doc2:\n",
    "            result.append(list1[i])\n",
    "            i += 1\n",
    "            j += 1\n",
    "        elif doc1 < doc2:\n",
    "            result.append(list1[i])\n",
    "            i += 1\n",
    "        else:\n",
    "            result.append(list2[j])\n",
    "            j += 1\n",
    "\n",
    "    result.extend(list1[i:])\n",
    "    result.extend(list2[j:])\n",
    "\n",
    "    return result"
   ]
  },
  {
   "cell_type": "code",
   "execution_count": 15,
   "metadata": {
    "collapsed": false,
    "ExecuteTime": {
     "end_time": "2023-10-25T07:55:24.495821700Z",
     "start_time": "2023-10-25T07:55:24.468757200Z"
    }
   },
   "outputs": [],
   "source": [
    "def evaluate_query_3(query: str):\n",
    "    tokenized_query = word_tokenize(clean_and_preprocess_text(query))\n",
    "    filtered_query = [word for word in tokenized_query \n",
    "                      if word.lower() not in stop_words and word != '.']\n",
    "    j = 0\n",
    "    cnt = 0\n",
    "    pos1 = []\n",
    "    pos2 = []\n",
    "    for word in filtered_query:\n",
    "        if word in zone_index:\n",
    "            if j == 0: pos1 = zone_index[word]\n",
    "            if j == 1: pos2 = zone_index[word]\n",
    "            j += 1\n",
    "        cnt += 1\n",
    "        if j == 2:\n",
    "            break\n",
    "    ans = boolean_or_zonal(pos1, pos2)\n",
    "    for i, word in enumerate(filtered_query):\n",
    "        if i < cnt: continue\n",
    "        if word in zone_index:\n",
    "            pos = zone_index[word]\n",
    "            if i % 3:\n",
    "                ans = boolean_or_zonal(ans, pos)\n",
    "            else:\n",
    "                ans = boolean_and_zonal(ans, pos)\n",
    "    return ans"
   ]
  },
  {
   "cell_type": "code",
   "execution_count": 16,
   "metadata": {
    "collapsed": false,
    "ExecuteTime": {
     "end_time": "2023-10-25T07:55:24.515579900Z",
     "start_time": "2023-10-25T07:55:24.490164600Z"
    }
   },
   "outputs": [],
   "source": [
    "def evaluate_system_zonal():\n",
    "    precision_values = [[] for i in range(len(queries))]\n",
    "    recall_values = [[] for i in range(len(queries))]\n",
    "\n",
    "    for i, query in enumerate(queries[:]):\n",
    "        retrieved_docs = evaluate_query_3(query)\n",
    "        retrieved_docs = [doc[\"docno\"] for doc in retrieved_docs]\n",
    "        if len(retrieved_docs) == 0:\n",
    "            precision_values[i].append(0)\n",
    "            recall_values[i].append(0)\n",
    "\n",
    "        for k in range(1, len(retrieved_docs) + 1):\n",
    "            relevant_docs_retrieved = list(set(retrieved_docs[:k]) \n",
    "                                           & set(query_relevant_docs[i]))\n",
    "            precision = len(relevant_docs_retrieved) / len(retrieved_docs[:k])\n",
    "            recall = len(relevant_docs_retrieved) / len(query_relevant_docs[i])\n",
    "            precision_values[i].append(precision)\n",
    "            recall_values[i].append(recall)\n",
    "            \n",
    "        if i == 0:\n",
    "            interpolated_precision_values = [max(precision_values[i][k:]) \n",
    "                                             for k in range(len(recall_values[i]))]\n",
    "            plt.Figure()\n",
    "            plt.plot(recall_values[i], precision_values[i], label='Precision')\n",
    "            plt.plot(recall_values[i], interpolated_precision_values, \n",
    "                     label='Interpolated precision', color='red',linewidth=1)\n",
    "            plt.title(f'PR curve for \\'{query}\\'')\n",
    "            plt.xlabel('Recall')\n",
    "            plt.ylabel('Precision')\n",
    "            plt.legend()\n",
    "            plt.show()\n",
    "    MAP = 0\n",
    "    for j in range(len(queries[:])):\n",
    "        MAP += sum(precision_values[j]) / len(precision_values[j])\n",
    "    MAP /= len(queries[:])\n",
    "    print(f'MAP of the system : {MAP}')"
   ]
  },
  {
   "cell_type": "code",
   "execution_count": 20,
   "metadata": {
    "collapsed": false,
    "ExecuteTime": {
     "end_time": "2023-10-25T07:56:06.400939600Z",
     "start_time": "2023-10-25T07:56:05.756846300Z"
    }
   },
   "outputs": [
    {
     "data": {
      "text/plain": "<Figure size 640x480 with 1 Axes>",
      "image/png": "[encoded data removed]"
     },
     "metadata": {},
     "output_type": "display_data"
    },
    {
     "name": "stdout",
     "output_type": "stream",
     "text": [
      "MAP of the system : 0.02936858287424262\n"
     ]
    }
   ],
   "source": [
    "evaluate_system_zonal()"
   ]
  },
  {
   "cell_type": "markdown",
   "metadata": {
    "collapsed": false
   },
   "source": [
    "Challenge problem"
   ]
  },
  {
   "cell_type": "code",
   "execution_count": 21,
   "metadata": {
    "collapsed": false,
    "ExecuteTime": {
     "end_time": "2023-10-25T07:56:08.612613600Z",
     "start_time": "2023-10-25T07:56:08.591074300Z"
    }
   },
   "outputs": [],
   "source": [
    "def score_docs(docs, query, titleWeight=0.3, bodyWeight=0.7):\n",
    "    tokenized_query = word_tokenize(clean_and_preprocess_text(query))\n",
    "    filtered_query = [word for word in tokenized_query \n",
    "                      if word.lower() not in stop_words and word != '.']\n",
    "    scores = {doc: 0 for doc in docs}\n",
    "    docScore = 0\n",
    "    for token in filtered_query:\n",
    "        if token not in zone_index: continue\n",
    "        q_docs = [doc for doc in zone_index[token] if doc['docno'] in scores]\n",
    "        for doc in q_docs:\n",
    "            if \"title\" in doc[\"zones\"]:\n",
    "                scores[doc['docno']] += titleWeight\n",
    "            if \"body\" in doc[\"zones\"]:\n",
    "                scores[doc['docno']] += bodyWeight\n",
    "    return scores              "
   ]
  },
  {
   "cell_type": "code",
   "execution_count": 22,
   "metadata": {
    "collapsed": false,
    "ExecuteTime": {
     "end_time": "2023-10-25T07:56:08.927445900Z",
     "start_time": "2023-10-25T07:56:08.903009900Z"
    }
   },
   "outputs": [],
   "source": [
    "def rank_docs():\n",
    "    for i, query in enumerate(queries[:1]):\n",
    "        retrieved_docs = evaluate_query_3(query)\n",
    "        retrieved_docs = [doc[\"docno\"] for doc in retrieved_docs]\n",
    "        scores = score_docs(retrieved_docs, query)\n",
    "        ranked_docs = [doc_score \n",
    "                       for doc_score \n",
    "                       in sorted(list(scores.items()), \n",
    "                        reverse=True, key=lambda item: item[1])]\n",
    "        return ranked_docs"
   ]
  },
  {
   "cell_type": "code",
   "execution_count": 23,
   "metadata": {
    "collapsed": false,
    "scrolled": true,
    "ExecuteTime": {
     "end_time": "2023-10-25T07:56:09.299821Z",
     "start_time": "2023-10-25T07:56:09.228320Z"
    }
   },
   "outputs": [
    {
     "data": {
      "text/plain": "[(792, 4.0),\n (12, 3.4000000000000004),\n (746, 3.0),\n (172, 2.8),\n (878, 2.8),\n (51, 2.7),\n (141, 2.7),\n (435, 2.7),\n (747, 2.7),\n (1144, 2.7),\n (1147, 2.7),\n (78, 2.4),\n (184, 2.4),\n (209, 2.4),\n (252, 2.4),\n (914, 2.4),\n (14, 2.0999999999999996),\n (329, 2.0999999999999996),\n (374, 2.0999999999999996),\n (52, 2.0),\n (204, 2.0),\n (280, 2.0),\n (309, 2.0),\n (429, 2.0),\n (430, 2.0),\n (606, 2.0),\n (700, 2.0),\n (876, 2.0),\n (945, 2.0),\n (1063, 2.0),\n (1111, 2.0),\n (202, 1.7),\n (211, 1.7),\n (302, 1.7),\n (311, 1.7),\n (378, 1.7),\n (441, 1.7),\n (593, 1.7),\n (1012, 1.7),\n (1089, 1.7),\n (1167, 1.7),\n (1169, 1.7),\n (1303, 1.7),\n (1380, 1.7),\n (24, 1.4),\n (29, 1.4),\n (36, 1.4),\n (58, 1.4),\n (67, 1.4),\n (69, 1.4),\n (82, 1.4),\n (169, 1.4),\n (195, 1.4),\n (214, 1.4),\n (216, 1.4),\n (274, 1.4),\n (292, 1.4),\n (352, 1.4),\n (364, 1.4),\n (476, 1.4),\n (624, 1.4),\n (629, 1.4),\n (658, 1.4),\n (721, 1.4),\n (726, 1.4),\n (908, 1.4),\n (917, 1.4),\n (982, 1.4),\n (986, 1.4),\n (1043, 1.4),\n (1110, 1.4),\n (1300, 1.4),\n (1321, 1.4),\n (47, 1.0),\n (100, 1.0),\n (253, 1.0),\n (497, 1.0),\n (725, 1.0),\n (810, 1.0),\n (883, 1.0),\n (909, 1.0),\n (911, 1.0),\n (1163, 1.0),\n (1165, 1.0),\n (1166, 1.0),\n (1168, 1.0),\n (1197, 1.0),\n (1328, 1.0),\n (75, 0.7),\n (76, 0.7),\n (220, 0.7),\n (245, 0.7),\n (251, 0.7),\n (328, 0.7),\n (345, 0.7),\n (415, 0.7),\n (416, 0.7),\n (453, 0.7),\n (724, 0.7),\n (729, 0.7),\n (791, 0.7),\n (804, 0.7),\n (811, 0.7),\n (836, 0.7),\n (882, 0.7),\n (884, 0.7),\n (925, 0.7),\n (948, 0.7),\n (1042, 0.7),\n (1051, 0.7),\n (1064, 0.7),\n (1170, 0.7),\n (1246, 0.7)]"
     },
     "execution_count": 23,
     "metadata": {},
     "output_type": "execute_result"
    }
   ],
   "source": [
    "rank_docs()"
   ]
  },
  {
   "cell_type": "code",
   "execution_count": 24,
   "metadata": {
    "collapsed": false,
    "ExecuteTime": {
     "end_time": "2023-10-25T07:56:09.628012800Z",
     "start_time": "2023-10-25T07:56:09.552346800Z"
    }
   },
   "outputs": [
    {
     "data": {
      "text/plain": "(1400,\n {'title': 'the buckling shear stress of simply-supported infinitely\\nlong plates with transverse stiffeners .',\n  'body': 'the buckling shear stress of simply-supported infinitely\\nlong plates with transverse stiffeners .\\n  this report is an extension of previous theoretical\\ninvestigations of the elastic buckling in shear of flat\\nplates reinforced by transverse stiffeners . the plates are treated\\nas infinitely long and simply-supported along the long\\nsides . stiffeners are spaced at regular intervals, dividing the plate\\ninto a number of panels of uniform size . the effect\\nob bending and torsional stiffnesses of the stiffener upon the buckling\\nshear stress is calculated for the complete range\\nof stiffnesses, for panels with ratios of width to stiffener spacing of\\ngraphical forms .'})"
     },
     "execution_count": 24,
     "metadata": {},
     "output_type": "execute_result"
    }
   ],
   "source": [
    "list(cran_zones.items())[-1]"
   ]
  },
  {
   "cell_type": "code",
   "execution_count": 25,
   "metadata": {
    "collapsed": false,
    "ExecuteTime": {
     "end_time": "2023-10-25T07:56:09.908853500Z",
     "start_time": "2023-10-25T07:56:09.885870400Z"
    }
   },
   "outputs": [],
   "source": [
    "def score(d, q, titleWeight=0.3, bodyWeight=0.7):\n",
    "    if q not in zone_index: return 0\n",
    "    doc = [doc for doc in zone_index[q] if doc['docno'] == d]\n",
    "    sc = 0\n",
    "    if \"title\" in doc[0][\"zones\"]:\n",
    "        sc += titleWeight\n",
    "    if \"body\" in doc[0][\"zones\"]:\n",
    "        sc += bodyWeight\n",
    "    return sc"
   ]
  },
  {
   "cell_type": "code",
   "execution_count": 26,
   "metadata": {
    "collapsed": false,
    "ExecuteTime": {
     "end_time": "2023-10-25T07:56:10.300310400Z",
     "start_time": "2023-10-25T07:56:10.274380300Z"
    }
   },
   "outputs": [],
   "source": [
    "def score_title(d, q):\n",
    "    s = 0\n",
    "    for token in q:\n",
    "        if token not in zone_index: continue\n",
    "        posting_list = zone_index[token]\n",
    "        if d in [doc['docno'] \n",
    "                 for doc in posting_list \n",
    "                 if doc['docno'] == d and \"title\" in doc['zones']]:\n",
    "            s += 1\n",
    "    normalized_s = float(s / len(q))\n",
    "    if normalized_s >= 0.2: return 1\n",
    "    return 0"
   ]
  },
  {
   "cell_type": "code",
   "execution_count": 27,
   "metadata": {
    "collapsed": false,
    "ExecuteTime": {
     "end_time": "2023-10-25T07:56:10.782127200Z",
     "start_time": "2023-10-25T07:56:10.756037700Z"
    }
   },
   "outputs": [],
   "source": [
    "def score_body(d, q):\n",
    "    s = 0\n",
    "    for token in q:\n",
    "        if token not in zone_index: continue\n",
    "        posting_list = zone_index[token]\n",
    "        if d in [doc['docno'] \n",
    "                 for doc in posting_list \n",
    "                 if doc['docno'] == d and \"body\" in doc['zones']]:\n",
    "            s += 1\n",
    "    normalized_s = float(s / len(q))\n",
    "    if normalized_s >= 0.2: return 1\n",
    "    return 0"
   ]
  },
  {
   "cell_type": "code",
   "execution_count": 28,
   "metadata": {
    "collapsed": false,
    "ExecuteTime": {
     "end_time": "2023-10-25T07:56:11.297931700Z",
     "start_time": "2023-10-25T07:56:11.252540400Z"
    }
   },
   "outputs": [],
   "source": [
    "def calculate_weight():\n",
    "    all_docs = [doc for doc, _ in cran_zones.items()]\n",
    "    trainings = [[\"doc\", \"query\", \"St\", \"Sb\", \"Judgment\"]]\n",
    "    for i, query in enumerate(queries[:100]):\n",
    "        relevant_docs = query_relevant_docs[i]\n",
    "        non_relevant_docs = list(set(all_docs) - set(query_relevant_docs[i]))\n",
    "        \n",
    "        tokenized_query = word_tokenize(clean_and_preprocess_text(query))\n",
    "        filtered_query = [word for word in tokenized_query \n",
    "                          if word.lower() not in stop_words and word != '.']\n",
    "        \n",
    "        for rel_doc in relevant_docs:\n",
    "            St = score_title(rel_doc, filtered_query)\n",
    "            Sb = score_body(rel_doc, filtered_query)\n",
    "            trainings.append([rel_doc, i, St, Sb, \"Relevant\"])    \n",
    "        for non_rel_doc in non_relevant_docs:\n",
    "            St = score_title(non_rel_doc, filtered_query)\n",
    "            Sb = score_body(non_rel_doc, filtered_query)\n",
    "            trainings.append([non_rel_doc, i, St, Sb, \"Non-Relevant\"])\n",
    "        \n",
    "    n_10_r = 0\n",
    "    n_10_n = 0\n",
    "    n_01_r = 0\n",
    "    n_01_n = 0\n",
    "    \n",
    "    for i, training in enumerate(trainings):\n",
    "        if not i: continue\n",
    "        if training[2] == 1 and training[3] == 0:\n",
    "            if training[4] == 'Relevant': n_10_r += 1\n",
    "            else: n_10_n += 1\n",
    "        if training[2] == 0 and training[3] == 1:\n",
    "            if training[4] == 'Relevant': n_01_r += 1\n",
    "            else: n_01_n += 1\n",
    "    \n",
    "    optimal_weight = float((n_10_r + n_01_n) / (n_10_r + n_10_n + n_01_r + n_01_n))\n",
    "    print(f'{optimal_weight}')"
   ]
  },
  {
   "cell_type": "code",
   "execution_count": 29,
   "metadata": {
    "collapsed": false,
    "ExecuteTime": {
     "end_time": "2023-10-25T07:56:30.058486900Z",
     "start_time": "2023-10-25T07:56:12.050243500Z"
    }
   },
   "outputs": [
    {
     "name": "stdout",
     "output_type": "stream",
     "text": [
      "0.9896562371346233\n"
     ]
    }
   ],
   "source": [
    "calculate_weight()            "
   ]
  },
  {
   "cell_type": "code",
   "execution_count": null,
   "metadata": {
    "collapsed": false
   },
   "outputs": [],
   "source": [
    "    "
   ]
  }
 ],
 "metadata": {
  "kernelspec": {
   "display_name": "Python 3 (ipykernel)",
   "language": "python",
   "name": "python3"
  },
  "language_info": {
   "codemirror_mode": {
    "name": "ipython",
    "version": 3
   },
   "file_extension": ".py",
   "mimetype": "text/x-python",
   "name": "python",
   "nbconvert_exporter": "python",
   "pygments_lexer": "ipython3",
   "version": "3.9.0"
  }
 },
 "nbformat": 4,
 "nbformat_minor": 4
}
