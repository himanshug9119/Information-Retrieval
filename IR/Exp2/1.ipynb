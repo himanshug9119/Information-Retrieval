{
 "cells": [
  {
   "cell_type": "code",
   "execution_count": 1,
   "metadata": {},
   "outputs": [],
   "source": [
    "import matplotlib.pyplot as plt\n",
    "import numpy as np\n",
    "import pandas as pd\n",
    "import subprocess\n",
    "import re\n",
    "import nltk\n",
    "from hdfs import InsecureClient\n",
    "from nltk.tokenize import word_tokenize"
   ]
  },
  {
   "cell_type": "code",
   "execution_count": 14,
   "metadata": {},
   "outputs": [],
   "source": [
    "hdfs_url = \"http://localhost:9090\"\n",
    "\n",
    "client = InsecureClient(hdfs_url, user=\"hadoop\")"
   ]
  },
  {
   "cell_type": "code",
   "execution_count": 11,
   "metadata": {},
   "outputs": [],
   "source": [
    "output_path = \"/user/hadoop/output/BSBI/0-r-00000\""
   ]
  },
  {
   "cell_type": "code",
   "execution_count": 15,
   "metadata": {},
   "outputs": [],
   "source": [
    "inverted_index = {}\n",
    "with client.read(output_path, encoding='utf-8') as reader:\n",
    "    for line in reader:\n",
    "        line = line.split()\n",
    "        inverted_index[line[0]] = line[1:]"
   ]
  },
  {
   "cell_type": "code",
   "execution_count": 16,
   "metadata": {},
   "outputs": [
    {
     "name": "stdout",
     "output_type": "stream",
     "text": [
      "[('a', ['0', '1', '2', '3']), ('abandon', ['3']), ('abate', ['2']), ('abated', ['0']), ('abatement', ['0']), ('abates', ['1']), ('abbey', ['2']), ('abdicated', ['3']), ('abed', ['2']), ('abhorrd', ['0', '1'])]\n"
     ]
    }
   ],
   "source": [
    "print(list(inverted_index.items())[:10])"
   ]
  }
 ],
 "metadata": {
  "kernelspec": {
   "display_name": "Python 3",
   "language": "python",
   "name": "python3"
  },
  "language_info": {
   "codemirror_mode": {
    "name": "ipython",
    "version": 3
   },
   "file_extension": ".py",
   "mimetype": "text/x-python",
   "name": "python",
   "nbconvert_exporter": "python",
   "pygments_lexer": "ipython3",
   "version": "3.10.12"
  },
  "orig_nbformat": 4
 },
 "nbformat": 4,
 "nbformat_minor": 2
}
