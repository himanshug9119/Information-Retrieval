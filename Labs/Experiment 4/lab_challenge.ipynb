{
 "cells": [
  {
   "cell_type": "code",
   "execution_count": 41,
   "id": "initial_id",
   "metadata": {
    "collapsed": true,
    "ExecuteTime": {
     "end_time": "2023-10-12T04:55:47.328490500Z",
     "start_time": "2023-10-12T04:55:47.302642700Z"
    }
   },
   "outputs": [],
   "source": [
    "import matplotlib.pyplot as plt\n",
    "import math\n",
    "from matplotlib.patches import Polygon\n"
   ]
  },
  {
   "cell_type": "code",
   "execution_count": 4,
   "outputs": [],
   "source": [
    "points = [[0, 4], [2, 2], [2, 4], [4, 3], [4, 5], [5, 1]]\n",
    "labels = ['green', 'yellow', 'yellow', 'green', 'yellow', 'green']\n",
    "classes = ['green', 'yellow']"
   ],
   "metadata": {
    "collapsed": false,
    "ExecuteTime": {
     "end_time": "2023-10-12T04:20:47.231618800Z",
     "start_time": "2023-10-12T04:20:47.212851500Z"
    }
   },
   "id": "8e12d066aeae5dea"
  },
  {
   "cell_type": "code",
   "execution_count": 10,
   "outputs": [
    {
     "data": {
      "text/plain": "'yellow'"
     },
     "execution_count": 10,
     "metadata": {},
     "output_type": "execute_result"
    }
   ],
   "source": [
    "def nn3(x, y):\n",
    "    dist = []\n",
    "    classes_curr = []\n",
    "    for idx, point in enumerate(points):\n",
    "        obj = {\n",
    "           \"d\": math.sqrt((point[0] - x) ** 2 + (point[1] - y) ** 2),\n",
    "            \"i\": labels[idx]\n",
    "        }\n",
    "        dist.append(obj)\n",
    "    dist = sorted(dist, key=lambda item: item['d'])\n",
    "    nn_3 = dist[:3]\n",
    "    green = 0\n",
    "    yellow = 0\n",
    "    for cls in nn_3:\n",
    "        if cls['i'] == 'green':\n",
    "            green +=1\n",
    "        else:\n",
    "            yellow += 1\n",
    "    if green > yellow:\n",
    "        return 'green'\n",
    "    return 'yellow'"
   ],
   "metadata": {
    "collapsed": false,
    "ExecuteTime": {
     "end_time": "2023-10-12T04:33:34.760856100Z",
     "start_time": "2023-10-12T04:33:34.726632400Z"
    }
   },
   "id": "6b777784485579b7"
  },
  {
   "cell_type": "code",
   "execution_count": 57,
   "outputs": [],
   "source": [
    "i = -2\n",
    "j = -2\n",
    "greens = []\n",
    "yellows = []\n",
    "while i <= 7:\n",
    "    j = -2\n",
    "    while j <= 7:\n",
    "        cls = nn3(i, j)\n",
    "        if cls == 'green': greens.append((i, j))\n",
    "        else : yellows.append((i, j))\n",
    "        j += .1\n",
    "    i += .1"
   ],
   "metadata": {
    "collapsed": false,
    "ExecuteTime": {
     "end_time": "2023-10-12T05:02:37.338008500Z",
     "start_time": "2023-10-12T05:02:37.288099800Z"
    }
   },
   "id": "6b69e45c49279b86"
  },
  {
   "cell_type": "code",
   "execution_count": 58,
   "outputs": [
    {
     "data": {
      "text/plain": "<Figure size 640x480 with 1 Axes>",
      "image/png": "[encoded data removed]"
     },
     "metadata": {},
     "output_type": "display_data"
    }
   ],
   "source": [
    "plt.scatter([x for x, _ in greens], [y for _, y in greens],color='#14d91d', s=100)\n",
    "plt.scatter([x for x, _ in yellows], [y for _, y in yellows], color='#d4eb09', s=100)\n",
    "plt.scatter([p[0] for idx, p in enumerate(points) if labels[idx] == 'green'], [p[1] for idx, p in enumerate(points) if labels[idx] == 'green'], color='green')\n",
    "plt.scatter([p[0] for idx, p in enumerate(points) if labels[idx] == 'yellow'], [p[1] for idx, p in enumerate(points) if labels[idx] == 'yellow'], color='#918f07')\n",
    "plt.ylim(-1, 6)\n",
    "plt.xlim(-1, 6)\n",
    "plt.legend(['green', 'yellow'])\n",
    "plt.show()"
   ],
   "metadata": {
    "collapsed": false,
    "ExecuteTime": {
     "end_time": "2023-10-12T05:02:38.851253300Z",
     "start_time": "2023-10-12T05:02:38.319991200Z"
    }
   },
   "id": "4550a81fa836c607"
  },
  {
   "cell_type": "code",
   "execution_count": 51,
   "outputs": [],
   "source": [],
   "metadata": {
    "collapsed": false,
    "ExecuteTime": {
     "end_time": "2023-10-12T04:59:53.186297900Z",
     "start_time": "2023-10-12T04:59:53.182289800Z"
    }
   },
   "id": "aac48d7b044a741c"
  },
  {
   "cell_type": "code",
   "execution_count": null,
   "outputs": [],
   "source": [],
   "metadata": {
    "collapsed": false
   },
   "id": "774dfcce091b6a3f"
  }
 ],
 "metadata": {
  "kernelspec": {
   "display_name": "Python 3",
   "language": "python",
   "name": "python3"
  },
  "language_info": {
   "codemirror_mode": {
    "name": "ipython",
    "version": 2
   },
   "file_extension": ".py",
   "mimetype": "text/x-python",
   "name": "python",
   "nbconvert_exporter": "python",
   "pygments_lexer": "ipython2",
   "version": "2.7.6"
  }
 },
 "nbformat": 4,
 "nbformat_minor": 5
}
