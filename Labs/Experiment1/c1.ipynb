{
 "cells": [
  {
   "cell_type": "code",
   "execution_count": 204,
   "id": "initial_id",
   "metadata": {
    "collapsed": true,
    "ExecuteTime": {
     "end_time": "2023-10-01T15:59:38.194532300Z",
     "start_time": "2023-10-01T15:59:38.162329500Z"
    }
   },
   "outputs": [],
   "source": [
    "import pyterrier as pt\n",
    "import os\n",
    "import pandas as pd"
   ]
  },
  {
   "cell_type": "code",
   "execution_count": 205,
   "outputs": [],
   "source": [
    "os.environ[\"JAVA_HOME\"] = \"C:\\\\Program Files\\\\Microsoft\\\\jdk-11.0.12.7-hotspot\\\\bin\""
   ],
   "metadata": {
    "collapsed": false,
    "ExecuteTime": {
     "end_time": "2023-10-01T15:59:38.675744100Z",
     "start_time": "2023-10-01T15:59:38.646860800Z"
    }
   },
   "id": "f44b9da66a0f5c4a"
  },
  {
   "cell_type": "code",
   "execution_count": 206,
   "outputs": [
    {
     "name": "stderr",
     "output_type": "stream",
     "text": [
      "PyTerrier 0.9.2 has loaded Terrier 5.7 (built by craigm on 2022-11-10 18:30) and terrier-helper 0.0.7\n",
      "\n"
     ]
    }
   ],
   "source": [
    "if not pt.started():\n",
    "    pt.init()"
   ],
   "metadata": {
    "collapsed": false,
    "ExecuteTime": {
     "end_time": "2023-10-01T15:59:43.524458500Z",
     "start_time": "2023-10-01T15:59:39.080491800Z"
    }
   },
   "id": "de408c3854183bde"
  },
  {
   "cell_type": "code",
   "execution_count": 207,
   "outputs": [
    {
     "name": "stdout",
     "output_type": "stream",
     "text": [
      "21:29:45.441 [main] ERROR org.terrier.structures.indexing.Indexer - Could not rename index\r\n",
      "java.io.IOException: Rename of index structure file 'E:\\Pycharm\\IR\\Experiment1\\mail_index/data_1.direct.bf' (exists) to 'E:\\Pycharm\\IR\\Experiment1\\mail_index/data.direct.bf' (exists) failed - likely that source file is still open. Possible indexing bug?\r\n",
      "\tat org.terrier.structures.IndexUtil.renameIndex(IndexUtil.java:379)\r\n",
      "\tat org.terrier.structures.indexing.Indexer.index(Indexer.java:388)\r\n",
      "Number of documents: 21\n",
      "Number of terms: 107\n",
      "Number of postings: 231\n",
      "Number of fields: 0\n",
      "Number of tokens: 345\n",
      "Field names: []\n",
      "Positions:   false\n"
     ]
    }
   ],
   "source": [
    "files = pt.io.find_files(\"./Mails\")\n",
    "\n",
    "indexer = pt.FilesIndexer(\"E:\\Pycharm\\IR\\Experiment1\\mail_index\", overwrite=True, verbose=True, blocks=False)\n",
    "indexref = indexer.index(files)\n",
    "\n",
    "index = pt.IndexFactory.of(indexref)\n",
    "print(index.getCollectionStatistics().toString())"
   ],
   "metadata": {
    "collapsed": false,
    "ExecuteTime": {
     "end_time": "2023-10-01T15:59:45.528259100Z",
     "start_time": "2023-10-01T15:59:43.524458500Z"
    }
   },
   "id": "583846555d31092e"
  },
  {
   "cell_type": "code",
   "execution_count": 208,
   "outputs": [],
   "source": [
    "queries_dict = {\n",
    "    1: 'Welcome, Nilesh,Thanks for joining Indian Institute of Information Technology'\n",
    "}\n",
    "queries = pd.DataFrame(list(queries_dict.items()), columns=['qid', 'query'])"
   ],
   "metadata": {
    "collapsed": false,
    "ExecuteTime": {
     "end_time": "2023-10-01T15:59:48.880095900Z",
     "start_time": "2023-10-01T15:59:48.863973600Z"
    }
   },
   "id": "114c727c2fc3776c"
  },
  {
   "cell_type": "code",
   "execution_count": 213,
   "outputs": [],
   "source": [
    "retr = pt.BatchRetrieve(index, controls = {\"wmodel\": \"TF_IDF\"})\n",
    "\n",
    "retr.setControl(\"wmodel\", \"TF_IDF\")\n",
    "retr.setControls({\"wmodel\": \"TF_IDF\"})"
   ],
   "metadata": {
    "collapsed": false,
    "ExecuteTime": {
     "end_time": "2023-10-01T16:00:47.075460Z",
     "start_time": "2023-10-01T16:00:47.031095200Z"
    }
   },
   "id": "48bca47a0d049600"
  },
  {
   "cell_type": "code",
   "execution_count": 214,
   "outputs": [
    {
     "data": {
      "text/plain": "  qid  docid docno  rank     score  \\\n0   1     15   d16     0  4.613670   \n1   1     14   d15     1  4.218750   \n2   1      0    d1     2  3.810985   \n3   1      6    d7     3  2.588984   \n\n                                               query  \n0  Welcome, Nilesh,Thanks for joining Indian Inst...  \n1  Welcome, Nilesh,Thanks for joining Indian Inst...  \n2  Welcome, Nilesh,Thanks for joining Indian Inst...  \n3  Welcome, Nilesh,Thanks for joining Indian Inst...  ",
      "text/html": "<div>\n<style scoped>\n    .dataframe tbody tr th:only-of-type {\n        vertical-align: middle;\n    }\n\n    .dataframe tbody tr th {\n        vertical-align: top;\n    }\n\n    .dataframe thead th {\n        text-align: right;\n    }\n</style>\n<table border=\"1\" class=\"dataframe\">\n  <thead>\n    <tr style=\"text-align: right;\">\n      <th></th>\n      <th>qid</th>\n      <th>docid</th>\n      <th>docno</th>\n      <th>rank</th>\n      <th>score</th>\n      <th>query</th>\n    </tr>\n  </thead>\n  <tbody>\n    <tr>\n      <th>0</th>\n      <td>1</td>\n      <td>15</td>\n      <td>d16</td>\n      <td>0</td>\n      <td>4.613670</td>\n      <td>Welcome, Nilesh,Thanks for joining Indian Inst...</td>\n    </tr>\n    <tr>\n      <th>1</th>\n      <td>1</td>\n      <td>14</td>\n      <td>d15</td>\n      <td>1</td>\n      <td>4.218750</td>\n      <td>Welcome, Nilesh,Thanks for joining Indian Inst...</td>\n    </tr>\n    <tr>\n      <th>2</th>\n      <td>1</td>\n      <td>0</td>\n      <td>d1</td>\n      <td>2</td>\n      <td>3.810985</td>\n      <td>Welcome, Nilesh,Thanks for joining Indian Inst...</td>\n    </tr>\n    <tr>\n      <th>3</th>\n      <td>1</td>\n      <td>6</td>\n      <td>d7</td>\n      <td>3</td>\n      <td>2.588984</td>\n      <td>Welcome, Nilesh,Thanks for joining Indian Inst...</td>\n    </tr>\n  </tbody>\n</table>\n</div>"
     },
     "execution_count": 214,
     "metadata": {},
     "output_type": "execute_result"
    }
   ],
   "source": [
    "res = retr.transform(queries)\n",
    "res"
   ],
   "metadata": {
    "collapsed": false,
    "ExecuteTime": {
     "end_time": "2023-10-01T16:00:47.778552700Z",
     "start_time": "2023-10-01T16:00:47.748449200Z"
    }
   },
   "id": "d4b8e8d5ee63dd6c"
  },
  {
   "cell_type": "markdown",
   "source": [
    "Score calculation for an query:"
   ],
   "metadata": {
    "collapsed": false
   },
   "id": "2427ddd9a7132e41"
  },
  {
   "cell_type": "code",
   "execution_count": 142,
   "outputs": [],
   "source": [
    "import string\n",
    "import re\n",
    "import numpy as np\n",
    "from nltk import word_tokenize\n",
    "import math"
   ],
   "metadata": {
    "collapsed": false,
    "ExecuteTime": {
     "end_time": "2023-10-01T14:57:57.484458100Z",
     "start_time": "2023-10-01T14:57:57.463620900Z"
    }
   },
   "id": "818fa367fecb35ae"
  },
  {
   "cell_type": "code",
   "execution_count": 177,
   "outputs": [],
   "source": [
    "k_1 = 1.2\n",
    "k_3 = 8\n",
    "b = 0.75\n",
    "avgDocLength = 0\n",
    "no_documents = 21"
   ],
   "metadata": {
    "collapsed": false,
    "ExecuteTime": {
     "end_time": "2023-10-01T15:24:35.094163900Z",
     "start_time": "2023-10-01T15:24:35.001007200Z"
    }
   },
   "id": "34c2af16867e182"
  },
  {
   "cell_type": "code",
   "execution_count": 178,
   "outputs": [],
   "source": [
    "icon_pattern = r'[\\U0001F600-\\U0001F64F\\U0001F300-\\U0001F5FF\\U0001F680-\\U0001F6FF\\U0001F700-\\U0001F77F\\U0001F780-\\U0001F7FF\\U0001F800-\\U0001F8FF\\U0001F900-\\U0001F9FF\\U0001FA00-\\U0001FA6F\\U0001FA70-\\U0001FAFF\\U0001FB00-\\U0001FBFF\\U0001FC00-\\U0001FCFF\\U0001FD00-\\U0001FDFF\\U0001FE00-\\U0001FEFF\\U0001FF00-\\U0001FFFF]+'\n",
    "pattern = r'[&#\\n*/.,!?(){}<>\\[\\]\"\\'=;,@\\d]'\n",
    "symbols_to_remove = r'[!\\\"#$%&\\'()*+,-./:;<=>?@[\\\\]^_`{|}~]'\n",
    "translation_table = str.maketrans(string.punctuation, ' ' * len(string.punctuation))"
   ],
   "metadata": {
    "collapsed": false,
    "ExecuteTime": {
     "end_time": "2023-10-01T15:24:35.097268100Z",
     "start_time": "2023-10-01T15:24:35.027532Z"
    }
   },
   "id": "4e30967e85095d84"
  },
  {
   "cell_type": "code",
   "execution_count": 190,
   "outputs": [],
   "source": [
    "corpus_path = 'E:/Pycharm/IR/Experiment1/Mails'\n",
    "ordered_words = [[] for i in range(no_documents)]"
   ],
   "metadata": {
    "collapsed": false,
    "ExecuteTime": {
     "end_time": "2023-10-01T15:58:19.496481200Z",
     "start_time": "2023-10-01T15:58:19.482192Z"
    }
   },
   "id": "a50775fb40e3fc28"
  },
  {
   "cell_type": "code",
   "execution_count": 191,
   "outputs": [],
   "source": [
    "for i in range(no_documents):\n",
    "    with open(f'{corpus_path}/email_{i}.txt', 'r' ,encoding='utf-8') as file:\n",
    "        text = file.read()\n",
    "        text = text.split()\n",
    "        # text = text.translate(translation_table)\n",
    "        # text = re.sub(icon_pattern, '', text).split(' ')\n",
    "        for word in text:\n",
    "            word = str(word).lower()\n",
    "            word = re.sub(r'[\\n]', '', word)\n",
    "            if word:\n",
    "                ordered_words[i].append(word)   "
   ],
   "metadata": {
    "collapsed": false,
    "ExecuteTime": {
     "end_time": "2023-10-01T15:58:19.901152900Z",
     "start_time": "2023-10-01T15:58:19.871634300Z"
    }
   },
   "id": "a7db282faaabbfc7"
  },
  {
   "cell_type": "code",
   "execution_count": 192,
   "outputs": [],
   "source": [
    "for doc in ordered_words:\n",
    "    avgDocLength += len(doc)\n",
    "avgDocLength /= no_documents"
   ],
   "metadata": {
    "collapsed": false,
    "ExecuteTime": {
     "end_time": "2023-10-01T15:58:20.735832400Z",
     "start_time": "2023-10-01T15:58:20.720527Z"
    }
   },
   "id": "c52716b33af9816d"
  },
  {
   "cell_type": "code",
   "execution_count": 193,
   "outputs": [],
   "source": [
    "query = 'Welcome, Nilesh,Thanks for joining Indian Institute of Information Technology'\n",
    "query2 = query.translate(translation_table).split(' ')\n",
    "terms = [q.lower() for q in query2 if q]\n",
    "query = word_tokenize(query.translate(translation_table))\n",
    "query = [q.lower() for q in query]"
   ],
   "metadata": {
    "collapsed": false,
    "ExecuteTime": {
     "end_time": "2023-10-01T15:58:21.126936900Z",
     "start_time": "2023-10-01T15:58:21.104491100Z"
    }
   },
   "id": "b6afd70aa26e5863"
  },
  {
   "cell_type": "code",
   "execution_count": 194,
   "outputs": [],
   "source": [
    "tf = [[0 for i in range(len(terms))] for j in range(no_documents)]\n",
    "\n",
    "for i in range(no_documents):\n",
    "    for j in range(len(terms)):\n",
    "        tf[i][j] = ordered_words[i].count(terms[j])"
   ],
   "metadata": {
    "collapsed": false,
    "ExecuteTime": {
     "end_time": "2023-10-01T15:58:21.466368900Z",
     "start_time": "2023-10-01T15:58:21.443360600Z"
    }
   },
   "id": "dcb57a7ba1e3e06d"
  },
  {
   "cell_type": "code",
   "execution_count": 195,
   "outputs": [],
   "source": [
    "df = [0 for i in range(len(terms))]\n",
    "i = 0\n",
    "for term in terms:\n",
    "    for doc in ordered_words:\n",
    "        if term in doc: df[i] += 1\n",
    "    # df[i] /= no_documents\n",
    "    i += 1"
   ],
   "metadata": {
    "collapsed": false,
    "ExecuteTime": {
     "end_time": "2023-10-01T15:58:21.779518300Z",
     "start_time": "2023-10-01T15:58:21.767009500Z"
    }
   },
   "id": "a81317259097b640"
  },
  {
   "cell_type": "code",
   "execution_count": 196,
   "outputs": [],
   "source": [
    "docLengths = [len(doc) for doc in ordered_words]"
   ],
   "metadata": {
    "collapsed": false,
    "ExecuteTime": {
     "end_time": "2023-10-01T15:58:22.122046Z",
     "start_time": "2023-10-01T15:58:22.111043700Z"
    }
   },
   "id": "5419bbe8a6507001"
  },
  {
   "cell_type": "code",
   "execution_count": 197,
   "outputs": [],
   "source": [
    "termFrequencies = [0 for i in range(len(terms))]\n",
    "for i in range(len(terms)):\n",
    "    for j in range(no_documents):\n",
    "        termFrequencies[i] += tf[j][i]"
   ],
   "metadata": {
    "collapsed": false,
    "ExecuteTime": {
     "end_time": "2023-10-01T15:58:22.488699100Z",
     "start_time": "2023-10-01T15:58:22.466060700Z"
    }
   },
   "id": "6a5f1209d54df414"
  },
  {
   "cell_type": "code",
   "execution_count": 198,
   "outputs": [],
   "source": [
    "keyFrequencies = [0 for  i in range(len(terms))]\n",
    "for i in range(len(terms)):\n",
    "    keyFrequencies[i] = query.count(terms[i]) / len(query)"
   ],
   "metadata": {
    "collapsed": false,
    "ExecuteTime": {
     "end_time": "2023-10-01T15:58:22.826542300Z",
     "start_time": "2023-10-01T15:58:22.815539600Z"
    }
   },
   "id": "d01ba10354b6b065"
  },
  {
   "cell_type": "code",
   "execution_count": 200,
   "outputs": [],
   "source": [
    "def score(tf: float, docLength: int, documentFrequency: float, termFrequency:float, keyFrequency: float) -> float:\n",
    "    robertson_tf = k_1 * tf / (tf + k_1 * (1 - b + b*docLength / avgDocLength ))\n",
    "    idf = math.log(no_documents/(documentFrequency+ 1))\n",
    "    return keyFrequency * robertson_tf * idf\n",
    "    # K = k_1 * ((1 - b) + b * docLength / avgDocLength) + tf\n",
    "    # return (tf * (k_3 + 1) * keyFrequency / ((k_3 + keyFrequency) * K)) * math.log((no_documents - documentFrequency + 0.5) / (documentFrequency + 0.5))"
   ],
   "metadata": {
    "collapsed": false,
    "ExecuteTime": {
     "end_time": "2023-10-01T15:58:30.339917900Z",
     "start_time": "2023-10-01T15:58:30.318910100Z"
    }
   },
   "id": "dc21becfc19f7ca8"
  },
  {
   "cell_type": "code",
   "execution_count": 201,
   "outputs": [
    {
     "data": {
      "text/plain": "[0.6032201180355741,\n 0.2640119618228913,\n 0.1118486843749609,\n 0.620949371985996,\n 0.8131149826492106,\n 0.0,\n 0.07341425282372888,\n 0.0,\n 0.06551622380242794,\n 0.0,\n 0.05726993579515466,\n 0.09070607963759321,\n 0.09115872567241654,\n 0.06425884726926157,\n 0.13914621130359753,\n 0.06553665626173356,\n 0.319449174646459,\n 0.030646199967794215,\n 0.0,\n 0.0,\n 0.0]"
     },
     "execution_count": 201,
     "metadata": {},
     "output_type": "execute_result"
    }
   ],
   "source": [
    "scores = [0 for i in range(no_documents)]\n",
    "for i in range(no_documents):\n",
    "    for j in range(len(terms)):\n",
    "        scores[i] += score(tf[i][j], docLengths[i], df[j], termFrequencies[j], keyFrequencies[j])\n",
    "scores"
   ],
   "metadata": {
    "collapsed": false,
    "ExecuteTime": {
     "end_time": "2023-10-01T15:58:31.040397700Z",
     "start_time": "2023-10-01T15:58:31.012392400Z"
    }
   },
   "id": "dac2a5f083d76fe1"
  }
 ],
 "metadata": {
  "kernelspec": {
   "display_name": "Python 3",
   "language": "python",
   "name": "python3"
  },
  "language_info": {
   "codemirror_mode": {
    "name": "ipython",
    "version": 2
   },
   "file_extension": ".py",
   "mimetype": "text/x-python",
   "name": "python",
   "nbconvert_exporter": "python",
   "pygments_lexer": "ipython2",
   "version": "2.7.6"
  }
 },
 "nbformat": 4,
 "nbformat_minor": 5
}
