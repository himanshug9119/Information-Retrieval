{
 "cells": [
  {
   "cell_type": "code",
   "execution_count": null,
   "id": "initial_id",
   "metadata": {
    "collapsed": true,
    "is_executing": true
   },
   "outputs": [],
   "source": [
    "from elasticsearch import Elasticsearch\n",
    "import os"
   ]
  },
  {
   "cell_type": "code",
   "execution_count": 3,
   "outputs": [],
   "source": [
    "# Initialize Elasticsearch client\n",
    "es = Elasticsearch([{'host': 'localhost', 'port': 9200, 'scheme': 'http'}])  # Replace with your Elasticsearch server details"
   ],
   "metadata": {
    "collapsed": false,
    "ExecuteTime": {
     "end_time": "2023-10-05T03:55:52.867291Z",
     "start_time": "2023-10-05T03:55:52.436205400Z"
    }
   },
   "id": "57677bfac91603aa"
  },
  {
   "cell_type": "code",
   "execution_count": 7,
   "outputs": [],
   "source": [
    "# Function to index files and directories\n",
    "def index_files(path):\n",
    "    for root, dirs, files in os.walk(path):\n",
    "        for file in files:\n",
    "            file_path = os.path.join(root, file)\n",
    "            doc = {\n",
    "                'name': file,\n",
    "                'path': file_path,\n",
    "                'size': os.path.getsize(file_path),\n",
    "                'modified_date': os.path.getmtime(file_path)\n",
    "            }\n",
    "            es.index(index='file_index', body=doc)"
   ],
   "metadata": {
    "collapsed": false,
    "ExecuteTime": {
     "end_time": "2023-10-05T03:56:58.477016800Z",
     "start_time": "2023-10-05T03:56:58.460809900Z"
    }
   },
   "id": "1f9fa8e6054d747"
  },
  {
   "cell_type": "code",
   "execution_count": null,
   "outputs": [],
   "source": [
    "# Index the files\n",
    "# index_files(directory_to_index)\n",
    "if not es.indices.exists(index='file_index'):\n",
    "    es.indices.create(index='file_index')"
   ],
   "metadata": {
    "collapsed": false
   },
   "id": "c0dcf3594886247"
  },
  {
   "cell_type": "code",
   "execution_count": 9,
   "outputs": [
    {
     "name": "stdout",
     "output_type": "stream",
     "text": [
      "{'name': 'Chernobyl.S01E01.1080p.WEB-DL.@moviesallwood.mkv', 'path': 'D:\\\\Series\\\\Chernobyl\\\\Chernobyl.S01E01.1080p.WEB-DL.@moviesallwood.mkv', 'size': 1292674436, 'modified_date': 1693335354.0}\n",
      "{'name': 'Chernobyl.S01E02.1080p.WEB-DL.@moviesallwood.mkv', 'path': 'D:\\\\Series\\\\Chernobyl\\\\Chernobyl.S01E02.1080p.WEB-DL.@moviesallwood.mkv', 'size': 1400147901, 'modified_date': 1693335724.0}\n",
      "{'name': 'Chernobyl.S01E03.1080p.WEB-DL.@moviesallwood.mkv', 'path': 'D:\\\\Series\\\\Chernobyl\\\\Chernobyl.S01E03.1080p.WEB-DL.@moviesallwood.mkv', 'size': 1400256246, 'modified_date': 1693335664.0}\n",
      "{'name': 'Chernobyl.S01E04.1080p.WEB-DL.@moviesallwood.mkv', 'path': 'D:\\\\Series\\\\Chernobyl\\\\Chernobyl.S01E04.1080p.WEB-DL.@moviesallwood.mkv', 'size': 1399820546, 'modified_date': 1693335482.0}\n",
      "{'name': 'Chernobyl.S01E05.1080p.WEB-DL.@moviesallwood.mkv', 'path': 'D:\\\\Series\\\\Chernobyl\\\\Chernobyl.S01E05.1080p.WEB-DL.@moviesallwood.mkv', 'size': 1505868180, 'modified_date': 1693335854.0}\n",
      "{'name': '[TIF]_S01E03__Dark_NF_720p.mkv', 'path': 'D:\\\\Series\\\\Dark\\\\[TIF]_S01E03__Dark_NF_720p.mkv', 'size': 233381613, 'modified_date': 1626845516.0}\n",
      "{'name': '[TIF]_S01E04__Dark_NF_720p.mkv', 'path': 'D:\\\\Series\\\\Dark\\\\[TIF]_S01E04__Dark_NF_720p.mkv', 'size': 282693066, 'modified_date': 1626848163.0}\n",
      "{'name': '[TIF]_S01E05__Dark_NF_720p.mkv', 'path': 'D:\\\\Series\\\\Dark\\\\[TIF]_S01E05__Dark_NF_720p.mkv', 'size': 239064104, 'modified_date': 1626855831.0}\n",
      "{'name': '[TIF]_S01E06__Dark_NF_720p.mkv', 'path': 'D:\\\\Series\\\\Dark\\\\[TIF]_S01E06__Dark_NF_720p.mkv', 'size': 272632347, 'modified_date': 1626861888.0}\n",
      "{'name': '[TIF]_S01E07__Dark_NF_720p.mkv', 'path': 'D:\\\\Series\\\\Dark\\\\[TIF]_S01E07__Dark_NF_720p.mkv', 'size': 261587482, 'modified_date': 1626867730.0}\n"
     ]
    },
    {
     "name": "stderr",
     "output_type": "stream",
     "text": [
      "C:\\Users\\91996\\AppData\\Local\\Temp\\ipykernel_15960\\1883933623.py:1: DeprecationWarning: The 'body' parameter is deprecated and will be removed in a future version. Instead use individual parameters.\n",
      "  response = es.search(index='file_index', body={\"query\": {\"match_all\": {}}})\n"
     ]
    }
   ],
   "source": [
    "response = es.search(index='file_index', body={\"query\": {\"match_all\": {}}})\n",
    "\n",
    "# Extract and print the documents\n",
    "for hit in response['hits']['hits']:\n",
    "    print(hit['_source'])"
   ],
   "metadata": {
    "collapsed": false,
    "ExecuteTime": {
     "end_time": "2023-10-05T03:58:42.519719Z",
     "start_time": "2023-10-05T03:58:42.466377Z"
    }
   },
   "id": "f105548fa5649879"
  }
 ],
 "metadata": {
  "kernelspec": {
   "display_name": "Python 3",
   "language": "python",
   "name": "python3"
  },
  "language_info": {
   "codemirror_mode": {
    "name": "ipython",
    "version": 2
   },
   "file_extension": ".py",
   "mimetype": "text/x-python",
   "name": "python",
   "nbconvert_exporter": "python",
   "pygments_lexer": "ipython2",
   "version": "2.7.6"
  }
 },
 "nbformat": 4,
 "nbformat_minor": 5
}
