{
 "cells": [
  {
   "cell_type": "code",
   "execution_count": 7,
   "metadata": {
    "collapsed": true
   },
   "outputs": [],
   "source": [
    "import numpy as np\n",
    "import pandas as pd"
   ]
  },
  {
   "cell_type": "code",
   "execution_count": 10,
   "outputs": [],
   "source": [
    "digital_Images = [\n",
    "    {\n",
    "        \"Title\": \"Starry Night\",\n",
    "        \"Artist\": \"Vincent van Gogh\",\n",
    "        \"Art Style\": \"Post-Impressionism\",\n",
    "        \"Medium\": \"Oil on Canvas\",\n",
    "        \"Year Created\": 1889,\n",
    "        \"Tags\": [\"night\", \"sky\", \"stars\", \"landscape\"]\n",
    "    },\n",
    "    {\n",
    "        \"Title\": \"Mona Lisa\",\n",
    "        \"Artist\": \"Leonardo da Vinci\",\n",
    "        \"Art Style\": \"Renaissance\",\n",
    "        \"Medium\": \"Oil on Wood\",\n",
    "        \"Year Created\": 1503,\n",
    "        \"Tags\": [\"portrait\", \"smile\", \"woman\", \"enigmatic\"]\n",
    "    }\n",
    "]"
   ],
   "metadata": {
    "collapsed": false
   }
  },
  {
   "cell_type": "code",
   "execution_count": 12,
   "outputs": [],
   "source": [
    "images_index = {}"
   ],
   "metadata": {
    "collapsed": false
   }
  },
  {
   "cell_type": "code",
   "execution_count": 17,
   "outputs": [],
   "source": [
    "for image in digital_Images:\n",
    "    title, artist, artStyle, medium, year, tags = image['Title'].lower(), image['Artist'].lower(), image['Art Style'].lower(), image['Medium'].lower(), str(image['Year Created']), image['Tags']\n",
    "\n",
    "\n",
    "    for term in title.split():\n",
    "        if term in images_index:\n",
    "            images_index[term].append(image)\n",
    "        else:\n",
    "            images_index[term] = [image]\n",
    "\n",
    "    if artist in images_index:\n",
    "        images_index[artist].append(image)\n",
    "    else:\n",
    "        images_index[artist] = [image]\n",
    "\n",
    "    for term in [artStyle, medium, year] + tags:\n",
    "        if term in images_index:\n",
    "            images_index[term].append(image)\n",
    "        else:\n",
    "            images_index[term] = [image]"
   ],
   "metadata": {
    "collapsed": false
   }
  },
  {
   "cell_type": "code",
   "execution_count": 20,
   "outputs": [
    {
     "name": "stdout",
     "output_type": "stream",
     "text": [
      "starry\n",
      "[{'Title': 'Starry Night', 'Artist': 'Vincent van Gogh', 'Art Style': 'Post-Impressionism', 'Medium': 'Oil on Canvas', 'Year Created': 1889, 'Tags': ['night', 'sky', 'stars', 'landscape']}, {'Title': 'Starry Night', 'Artist': 'Vincent van Gogh', 'Art Style': 'Post-Impressionism', 'Medium': 'Oil on Canvas', 'Year Created': 1889, 'Tags': ['night', 'sky', 'stars', 'landscape']}, {'Title': 'Starry Night', 'Artist': 'Vincent van Gogh', 'Art Style': 'Post-Impressionism', 'Medium': 'Oil on Canvas', 'Year Created': 1889, 'Tags': ['night', 'sky', 'stars', 'landscape']}]\n",
      "night\n",
      "[{'Title': 'Starry Night', 'Artist': 'Vincent van Gogh', 'Art Style': 'Post-Impressionism', 'Medium': 'Oil on Canvas', 'Year Created': 1889, 'Tags': ['night', 'sky', 'stars', 'landscape']}, {'Title': 'Starry Night', 'Artist': 'Vincent van Gogh', 'Art Style': 'Post-Impressionism', 'Medium': 'Oil on Canvas', 'Year Created': 1889, 'Tags': ['night', 'sky', 'stars', 'landscape']}, {'Title': 'Starry Night', 'Artist': 'Vincent van Gogh', 'Art Style': 'Post-Impressionism', 'Medium': 'Oil on Canvas', 'Year Created': 1889, 'Tags': ['night', 'sky', 'stars', 'landscape']}, {'Title': 'Starry Night', 'Artist': 'Vincent van Gogh', 'Art Style': 'Post-Impressionism', 'Medium': 'Oil on Canvas', 'Year Created': 1889, 'Tags': ['night', 'sky', 'stars', 'landscape']}]\n",
      "mona\n",
      "[{'Title': 'Mona Lisa', 'Artist': 'Leonardo da Vinci', 'Art Style': 'Renaissance', 'Medium': 'Oil on Wood', 'Year Created': 1503, 'Tags': ['portrait', 'smile', 'woman', 'enigmatic']}, {'Title': 'Mona Lisa', 'Artist': 'Leonardo da Vinci', 'Art Style': 'Renaissance', 'Medium': 'Oil on Wood', 'Year Created': 1503, 'Tags': ['portrait', 'smile', 'woman', 'enigmatic']}, {'Title': 'Mona Lisa', 'Artist': 'Leonardo da Vinci', 'Art Style': 'Renaissance', 'Medium': 'Oil on Wood', 'Year Created': 1503, 'Tags': ['portrait', 'smile', 'woman', 'enigmatic']}]\n",
      "lisa\n",
      "[{'Title': 'Mona Lisa', 'Artist': 'Leonardo da Vinci', 'Art Style': 'Renaissance', 'Medium': 'Oil on Wood', 'Year Created': 1503, 'Tags': ['portrait', 'smile', 'woman', 'enigmatic']}, {'Title': 'Mona Lisa', 'Artist': 'Leonardo da Vinci', 'Art Style': 'Renaissance', 'Medium': 'Oil on Wood', 'Year Created': 1503, 'Tags': ['portrait', 'smile', 'woman', 'enigmatic']}, {'Title': 'Mona Lisa', 'Artist': 'Leonardo da Vinci', 'Art Style': 'Renaissance', 'Medium': 'Oil on Wood', 'Year Created': 1503, 'Tags': ['portrait', 'smile', 'woman', 'enigmatic']}]\n",
      "vincent van gogh\n",
      "[{'Title': 'Starry Night', 'Artist': 'Vincent van Gogh', 'Art Style': 'Post-Impressionism', 'Medium': 'Oil on Canvas', 'Year Created': 1889, 'Tags': ['night', 'sky', 'stars', 'landscape']}]\n",
      "post-impressionism\n",
      "[{'Title': 'Starry Night', 'Artist': 'Vincent van Gogh', 'Art Style': 'Post-Impressionism', 'Medium': 'Oil on Canvas', 'Year Created': 1889, 'Tags': ['night', 'sky', 'stars', 'landscape']}]\n",
      "oil on canvas\n",
      "[{'Title': 'Starry Night', 'Artist': 'Vincent van Gogh', 'Art Style': 'Post-Impressionism', 'Medium': 'Oil on Canvas', 'Year Created': 1889, 'Tags': ['night', 'sky', 'stars', 'landscape']}]\n",
      "1889\n",
      "[{'Title': 'Starry Night', 'Artist': 'Vincent van Gogh', 'Art Style': 'Post-Impressionism', 'Medium': 'Oil on Canvas', 'Year Created': 1889, 'Tags': ['night', 'sky', 'stars', 'landscape']}]\n",
      "sky\n",
      "[{'Title': 'Starry Night', 'Artist': 'Vincent van Gogh', 'Art Style': 'Post-Impressionism', 'Medium': 'Oil on Canvas', 'Year Created': 1889, 'Tags': ['night', 'sky', 'stars', 'landscape']}]\n",
      "stars\n",
      "[{'Title': 'Starry Night', 'Artist': 'Vincent van Gogh', 'Art Style': 'Post-Impressionism', 'Medium': 'Oil on Canvas', 'Year Created': 1889, 'Tags': ['night', 'sky', 'stars', 'landscape']}]\n",
      "landscape\n",
      "[{'Title': 'Starry Night', 'Artist': 'Vincent van Gogh', 'Art Style': 'Post-Impressionism', 'Medium': 'Oil on Canvas', 'Year Created': 1889, 'Tags': ['night', 'sky', 'stars', 'landscape']}]\n",
      "leonardo da vinci\n",
      "[{'Title': 'Mona Lisa', 'Artist': 'Leonardo da Vinci', 'Art Style': 'Renaissance', 'Medium': 'Oil on Wood', 'Year Created': 1503, 'Tags': ['portrait', 'smile', 'woman', 'enigmatic']}]\n",
      "renaissance\n",
      "[{'Title': 'Mona Lisa', 'Artist': 'Leonardo da Vinci', 'Art Style': 'Renaissance', 'Medium': 'Oil on Wood', 'Year Created': 1503, 'Tags': ['portrait', 'smile', 'woman', 'enigmatic']}]\n",
      "oil on wood\n",
      "[{'Title': 'Mona Lisa', 'Artist': 'Leonardo da Vinci', 'Art Style': 'Renaissance', 'Medium': 'Oil on Wood', 'Year Created': 1503, 'Tags': ['portrait', 'smile', 'woman', 'enigmatic']}]\n",
      "1503\n",
      "[{'Title': 'Mona Lisa', 'Artist': 'Leonardo da Vinci', 'Art Style': 'Renaissance', 'Medium': 'Oil on Wood', 'Year Created': 1503, 'Tags': ['portrait', 'smile', 'woman', 'enigmatic']}]\n",
      "portrait\n",
      "[{'Title': 'Mona Lisa', 'Artist': 'Leonardo da Vinci', 'Art Style': 'Renaissance', 'Medium': 'Oil on Wood', 'Year Created': 1503, 'Tags': ['portrait', 'smile', 'woman', 'enigmatic']}]\n",
      "smile\n",
      "[{'Title': 'Mona Lisa', 'Artist': 'Leonardo da Vinci', 'Art Style': 'Renaissance', 'Medium': 'Oil on Wood', 'Year Created': 1503, 'Tags': ['portrait', 'smile', 'woman', 'enigmatic']}]\n",
      "woman\n",
      "[{'Title': 'Mona Lisa', 'Artist': 'Leonardo da Vinci', 'Art Style': 'Renaissance', 'Medium': 'Oil on Wood', 'Year Created': 1503, 'Tags': ['portrait', 'smile', 'woman', 'enigmatic']}]\n",
      "enigmatic\n",
      "[{'Title': 'Mona Lisa', 'Artist': 'Leonardo da Vinci', 'Art Style': 'Renaissance', 'Medium': 'Oil on Wood', 'Year Created': 1503, 'Tags': ['portrait', 'smile', 'woman', 'enigmatic']}]\n"
     ]
    }
   ],
   "source": [
    "for image in images_index:\n",
    "    print(image)\n",
    "    print(images_index[image])"
   ],
   "metadata": {
    "collapsed": false
   }
  },
  {
   "cell_type": "code",
   "execution_count": null,
   "outputs": [],
   "source": [],
   "metadata": {
    "collapsed": false
   }
  }
 ],
 "metadata": {
  "kernelspec": {
   "display_name": "Python 3",
   "language": "python",
   "name": "python3"
  },
  "language_info": {
   "codemirror_mode": {
    "name": "ipython",
    "version": 2
   },
   "file_extension": ".py",
   "mimetype": "text/x-python",
   "name": "python",
   "nbconvert_exporter": "python",
   "pygments_lexer": "ipython2",
   "version": "2.7.6"
  }
 },
 "nbformat": 4,
 "nbformat_minor": 0
}
